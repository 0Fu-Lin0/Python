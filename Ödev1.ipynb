{
  "nbformat": 4,
  "nbformat_minor": 0,
  "metadata": {
    "colab": {
      "provenance": [],
      "authorship_tag": "ABX9TyPUs92dFS0JBBZE0BiryYRD",
      "include_colab_link": true
    },
    "kernelspec": {
      "name": "python3",
      "display_name": "Python 3"
    },
    "language_info": {
      "name": "python"
    }
  },
  "cells": [
    {
      "cell_type": "markdown",
      "metadata": {
        "id": "view-in-github",
        "colab_type": "text"
      },
      "source": [
        "<a href=\"https://colab.research.google.com/github/alperkbdy/Python/blob/Python-Dersi/%C3%96dev1.ipynb\" target=\"_parent\"><img src=\"https://colab.research.google.com/assets/colab-badge.svg\" alt=\"Open In Colab\"/></a>"
      ]
    },
    {
      "cell_type": "code",
      "source": [
        "kelvin = 400\n",
        "celsius = kelvin - 273.15\n",
        "print(f\"{kelvin} Kelvin, {celsius:.2f} °C dereceye eşittir.\")"
      ],
      "metadata": {
        "id": "GXerUA9QeViT"
      },
      "execution_count": null,
      "outputs": []
    },
    {
      "cell_type": "code",
      "source": [
        "pi = 3.14\n",
        "yaricap = 1.5\n",
        "\n",
        "alan = pi * yaricap**2\n",
        "\n",
        "cevre = 2 * pi * yaricap\n",
        "\n",
        "print(f\"Dairenin alanı: {alan:.2f} cm²\")\n",
        "print(f\"Dairenin çevresi: {cevre:.2f} cm\")"
      ],
      "metadata": {
        "id": "yBzPUfgUebPb"
      },
      "execution_count": null,
      "outputs": []
    },
    {
      "cell_type": "code",
      "source": [
        "sayi = int(input(\"Dört basamaklı bir sayı girin: \"))\n",
        "\n",
        "birler_basamagi = sayi % 10\n",
        "\n",
        "binler_basamagi = sayi // 1000\n",
        "\n",
        "toplam = birler_basamagi + binler_basamagi\n",
        "\n",
        "print(f\"Girdiğiniz sayının ilk ve son basamağının toplamı: {toplam}\")"
      ],
      "metadata": {
        "id": "7b6yLuzVefxc"
      },
      "execution_count": null,
      "outputs": []
    },
    {
      "cell_type": "code",
      "source": [
        "hiz = 110\n",
        "mesafe = 500\n",
        "\n",
        "sure_saat = mesafe / hiz\n",
        "\n",
        "sure_saat_int = int(sure_saat)\n",
        "sure_dakika = (sure_saat - sure_saat_int) * 60\n",
        "\n",
        "print(f\"Araba {mesafe} km yol katetti.\")\n",
        "print(f\"Bu yolu yaklaşık olarak {sure_saat_int} saat {int(sure_dakika)} dakikada gidecektir.\")"
      ],
      "metadata": {
        "id": "Xtl3UN8UejWt"
      },
      "execution_count": null,
      "outputs": []
    },
    {
      "cell_type": "markdown",
      "source": [],
      "metadata": {
        "id": "d5gUa5gRePsZ"
      }
    }
  ]
}