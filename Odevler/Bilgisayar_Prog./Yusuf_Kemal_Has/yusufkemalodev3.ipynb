#1.soru
def ikiye_katlamak_icin_yil_hesapla(baslangic_yatirim, yillik_faiz_orani):
    yil = 0
    bakiye = baslangic_yatirim

    while bakiye < baslangic_yatirim * 2:
        faiz_miktari = bakiye * yillik_faiz_orani
        bakiye += faiz_miktari
        yil += 1

    return yil

baslangic_yatirim = 10000  # Başlangıç yatırımı
yillik_faiz_orani = 0.15  # Yıllık faiz oranı (%15)

gereken_yil_sayisi = ikiye_katlamak_icin_yil_hesapla(baslangic_yatirim, yillik_faiz_orani)

print(f"{baslangic_yatirim} TL'yi ikiye katlamak için gereken yıl sayısı: {gereken_yil_sayisi} yıl")
#2.soru
baslangic_sayi = int(input("Başlangıç mikroorganizma sayısını girin: "))
sure = 0
while baslangic_sayi < 1000000:
    baslangic_sayi *= 2
    sure += 10
gunler = sure // 24
kalan_saatler = sure % 24

print(f"1000000 mikroorganizmaya sahip olmak için {gunler} gün, {kalan_saatler} saat sürer.")
#3.soru
toplam = 0
sayac = 0

while True:
    sayi = int(input("Pozitif bir tamsayı girin (Negatif bir sayı girene kadar devam edin): "))
    if sayi < 0:
        break
    toplam += sayi
    sayac += 1


if sayac > 0:
    ortalama = toplam / sayac
    print(f"Girdiğiniz sayıların ortalaması: {ortalama}")
else:
    print("Hiç pozitif tamsayı girilmedi.")
#4.soru
import random
hedef_sayi = random.randint(1, 10)
tahminler = 0
while True:
    tahmin = int(input("1 ile 10 arasında bir sayı tahmin edin: "))
    tahminler += 1
    if tahmin < hedef_sayi:
        print("Daha büyük bir sayı tahmin edin.")
    elif tahmin > hedef_sayi:
        print("Daha küçük bir sayı tahmin edin.")
    else:
        print(f"Tebrikler! {hedef_sayi} sayısını doğru tahmin ettiniz!")
        print(f"{tahminler} tahminde bulundunuz.")
        break
