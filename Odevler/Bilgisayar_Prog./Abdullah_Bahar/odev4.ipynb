{
  "nbformat": 4,
  "nbformat_minor": 0,
  "metadata": {
    "colab": {
      "provenance": []
    },
    "kernelspec": {
      "name": "python3",
      "display_name": "Python 3"
    },
    "language_info": {
      "name": "python"
    }
  },
  "cells": [
    {
      "cell_type": "code",
      "source": [
        "def rakamTopla(sayilar):\n",
        "  sum = 0\n",
        "  for i in range(0, len(sayilar)):\n",
        "    sum += int(sayilar[i])\n",
        "  return sum\n",
        "\n",
        "x = rakamTopla(input(\"Lütfen bir sayı giriniz : \"))\n",
        "print(x)"
      ],
      "metadata": {
        "colab": {
          "base_uri": "https://localhost:8080/",
          "height": 0
        },
        "id": "918jjeaWBoV0",
        "outputId": "33464083-c494-4f9f-f549-78c496b06f5b"
      },
      "execution_count": 2,
      "outputs": [
        {
          "output_type": "stream",
          "name": "stdout",
          "text": [
            "Lütfen bir sayı giriniz : 123456789\n",
            "45\n"
          ]
        }
      ]
    },
    {
      "cell_type": "code",
      "source": [
        "def reverseSayi(sayilar):\n",
        "  i = 0\n",
        "  ters = \"\"\n",
        "\n",
        "  while (i < len(sayilar)):\n",
        "    ters += sayilar[len(sayilar) - i - 1]\n",
        "    i += 1\n",
        "\n",
        "  return ters\n",
        "\n",
        "  # while (i < len(sayilar) / 2):\n",
        "  #   temp = sayilar[i]\n",
        "  #   sayilar[i] = sayilar[len(sayilar) - i - 1]\n",
        "  #   sayilar[len(sayilar) - i - 1] = temp\n",
        "  #   i += 1\n",
        "\n",
        "tersSayi = reverseSayi(input(\"Lütfen bir sayı giriniz : \"))\n",
        "print(tersSayi)"
      ],
      "metadata": {
        "colab": {
          "base_uri": "https://localhost:8080/",
          "height": 0
        },
        "id": "LdhUIkEECuVy",
        "outputId": "18d59022-cdc2-432f-8d49-d0a55d8de849"
      },
      "execution_count": 21,
      "outputs": [
        {
          "output_type": "stream",
          "name": "stdout",
          "text": [
            "Lütfen bir sayı giriniz : 12345\n",
            "54321\n"
          ]
        }
      ]
    },
    {
      "cell_type": "code",
      "source": [
        "def reverseSayi(sayilar):\n",
        "  i = 0\n",
        "  ters = \"\"\n",
        "  while (i < len(sayilar)):\n",
        "    ters += sayilar[len(sayilar) - i - 1]\n",
        "    i += 1\n",
        "  return ters\n",
        "\n",
        "def sonBinaryBukucu(decimal):\n",
        "  bolum = int(decimal)\n",
        "  binary = \"\"\n",
        "  while (0 < bolum):\n",
        "    binary += str(bolum % 2)\n",
        "    bolum = bolum // 2\n",
        "  return binary\n",
        "\n",
        "decimal = reverseSayi(sonBinaryBukucu(input(\"Lütfen binary bir sayı giriniz : \")))\n",
        "print(decimal)"
      ],
      "metadata": {
        "colab": {
          "base_uri": "https://localhost:8080/",
          "height": 0
        },
        "id": "341cOaiYJSjF",
        "outputId": "574f8ece-1979-4bdf-b6fb-ff60cdf785c0"
      },
      "execution_count": 29,
      "outputs": [
        {
          "output_type": "stream",
          "name": "stdout",
          "text": [
            "Lütfen binary bir sayı giriniz : 10\n",
            "1010\n"
          ]
        }
      ]
    },
    {
      "cell_type": "code",
      "source": [
        "def is_binary(binary):\n",
        "  for i in range(0, len(binary) - 1):\n",
        "    if (int(binary[i]) != 1 and int(binary[i]) != 0):\n",
        "      return False\n",
        "  return True\n",
        "\n",
        "print(is_binary(input(\"Lütfen bir sayı giriniz : \")))"
      ],
      "metadata": {
        "colab": {
          "base_uri": "https://localhost:8080/",
          "height": 0
        },
        "id": "Is1Li4MTMNCW",
        "outputId": "481971be-bce6-45b6-ff0c-f00dad9f3c77"
      },
      "execution_count": 45,
      "outputs": [
        {
          "output_type": "stream",
          "name": "stdout",
          "text": [
            "Lütfen bir sayı giriniz : 20011\n",
            "True\n"
          ]
        }
      ]
    },
    {
      "cell_type": "code",
      "source": [
        "def Convert_to_decimal(binary):\n",
        "  if not is_binary(binary):\n",
        "    return False\n",
        "\n",
        "  DECİMAL = 0\n",
        "  for i in range(0, len(binary)):\n",
        "    DECİMAL += int(binary[i]) * (2 ** (len(binary) - i - 1))\n",
        "\n",
        "  return DECİMAL\n",
        "\n",
        "\n",
        "print(Convert_to_decimal(input(\"Lütfen bir sayı giriniz : \")))"
      ],
      "metadata": {
        "colab": {
          "base_uri": "https://localhost:8080/",
          "height": 0
        },
        "id": "xp5RD-B4Nj8u",
        "outputId": "a2d6de07-9793-4f43-b9cf-4882d97e9144"
      },
      "execution_count": 48,
      "outputs": [
        {
          "output_type": "stream",
          "name": "stdout",
          "text": [
            "Lütfen bir sayı giriniz : 11111111\n",
            "255\n"
          ]
        }
      ]
    }
  ]
}
