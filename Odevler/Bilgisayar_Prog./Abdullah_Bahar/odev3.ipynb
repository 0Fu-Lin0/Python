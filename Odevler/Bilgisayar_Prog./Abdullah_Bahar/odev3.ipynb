{
  "nbformat": 4,
  "nbformat_minor": 0,
  "metadata": {
    "colab": {
      "provenance": []
    },
    "kernelspec": {
      "name": "python3",
      "display_name": "Python 3"
    },
    "language_info": {
      "name": "python"
    }
  },
  "cells": [
    {
      "cell_type": "code",
      "execution_count": 7,
      "metadata": {
        "colab": {
          "base_uri": "https://localhost:8080/"
        },
        "id": "3LR4dEmFgxy6",
        "outputId": "6d6ffdc5-9045-49da-9a42-77ef2cb1060c"
      },
      "outputs": [
        {
          "output_type": "stream",
          "name": "stdout",
          "text": [
            "Bir sayı giriniz : 1\n",
            "Bir sayı giriniz : 2\n",
            "Bir sayı giriniz : 3\n",
            "Bir sayı giriniz : 4\n",
            "Bir sayı giriniz : 5\n",
            "Bir sayı giriniz : -1\n",
            "Girmiş olduğunuz sayıların ortalaması = 3.0\n"
          ]
        }
      ],
      "source": [
        "toplam = 0\n",
        "adet = 0\n",
        "sayi = 0\n",
        "ortalama = 0\n",
        "while(True):\n",
        "    sayi = int(input(\"Bir sayı giriniz : \"))\n",
        "    if(sayi < 0):\n",
        "      break\n",
        "    toplam += sayi\n",
        "    adet += 1\n",
        "ortalama = toplam / adet\n",
        "print(\"Girmiş olduğunuz sayıların ortalaması = \" + str(ortalama))"
      ]
    },
    {
      "cell_type": "code",
      "source": [
        "import random\n",
        "\n",
        "tahminAdet = 0\n",
        "tahmin = 0\n",
        "rastgele = random.randint(1,10)\n",
        "while (rastgele != tahmin):\n",
        "  tahmin = int(input(\"Sayıyı tahmin etmeye çalışın : \"))\n",
        "  tahminAdet += 1\n",
        "print(\"Tebrikelr\" + str(tahminAdet) + \" denemde sayıyı buldunuz\")"
      ],
      "metadata": {
        "colab": {
          "base_uri": "https://localhost:8080/"
        },
        "id": "ro0O5OxJiwgU",
        "outputId": "983a74ac-20b6-45fc-d4e4-3d70d6b4a776"
      },
      "execution_count": 16,
      "outputs": [
        {
          "output_type": "stream",
          "name": "stdout",
          "text": [
            "Sayıyı tahmin etmeye çalışın : 1\n",
            "Sayıyı tahmin etmeye çalışın : 2\n",
            "Sayıyı tahmin etmeye çalışın : 3\n",
            "Sayıyı tahmin etmeye çalışın : 4\n",
            "Sayıyı tahmin etmeye çalışın : 5\n",
            "Sayıyı tahmin etmeye çalışın : 6\n",
            "Sayıyı tahmin etmeye çalışın : 7\n",
            "7 denemde sayıyı buldunuz\n"
          ]
        }
      ]
    },
    {
      "cell_type": "code",
      "source": [
        "yatirim = 10000\n",
        "banka = yatirim\n",
        "yil = 0\n",
        "while(banka < 20000):\n",
        "  yil += 1\n",
        "  banka += banka * 15 / 100\n",
        "  print(str(yil) + \". Yıl banka hesabında olan para = \" + str(banka))\n",
        "print(\"Tebrikler yarımınızı \" + str(yil) + \" sonra ikiye katladınız.\")"
      ],
      "metadata": {
        "colab": {
          "base_uri": "https://localhost:8080/"
        },
        "id": "bJRUDYhKkjLv",
        "outputId": "1ee77122-0853-4622-f998-20d2d0fb440b"
      },
      "execution_count": 20,
      "outputs": [
        {
          "output_type": "stream",
          "name": "stdout",
          "text": [
            "1. Yıl banka hesabında olan para = 11500.0\n",
            "2. Yıl banka hesabında olan para = 13225.0\n",
            "3. Yıl banka hesabında olan para = 15208.75\n",
            "4. Yıl banka hesabında olan para = 17490.0625\n",
            "5. Yıl banka hesabında olan para = 20113.571875\n",
            "Tebrikler yarımınızı 5 sonra ikiye katladınız.\n"
          ]
        }
      ]
    },
    {
      "cell_type": "code",
      "source": [
        "mikroOrg = int(input(\"Lütfen mikroorganizma sayısını grinizi : \"))\n",
        "bas = mikroOrg\n",
        "if (mikroOrg >= 1000000 and mikroOrg <= 0):\n",
        "  print(\"Düzgün bir değer girin\")\n",
        "else:\n",
        "  i = 0\n",
        "  while(mikroOrg <= 1000000):\n",
        "    i += 10\n",
        "    mikroOrg *= 2\n",
        "    print(str(i) + \". Saatte Mikroorganizma Sayısı : \" + str(mikroOrg))\n",
        "  gun = i // 24\n",
        "  saat = i - (gun * 24)\n",
        "  print(\"Başlangıçta \" + str(bas) + \" tane olan mikroorganizma -> \" + str(gun) +\" gun ve \"+ str(saat) + \" sonra 1,000,000'u aşmıştır\")"
      ],
      "metadata": {
        "colab": {
          "base_uri": "https://localhost:8080/"
        },
        "id": "WgB_RwRcmhSK",
        "outputId": "0e72ea91-646b-4a95-d3f4-2c93405934de"
      },
      "execution_count": 24,
      "outputs": [
        {
          "output_type": "stream",
          "name": "stdout",
          "text": [
            "Lütfen mikroorganizma sayısını grinizi : 10\n",
            "10. Saatte Mikroorganizma Sayısı : 20\n",
            "20. Saatte Mikroorganizma Sayısı : 40\n",
            "30. Saatte Mikroorganizma Sayısı : 80\n",
            "40. Saatte Mikroorganizma Sayısı : 160\n",
            "50. Saatte Mikroorganizma Sayısı : 320\n",
            "60. Saatte Mikroorganizma Sayısı : 640\n",
            "70. Saatte Mikroorganizma Sayısı : 1280\n",
            "80. Saatte Mikroorganizma Sayısı : 2560\n",
            "90. Saatte Mikroorganizma Sayısı : 5120\n",
            "100. Saatte Mikroorganizma Sayısı : 10240\n",
            "110. Saatte Mikroorganizma Sayısı : 20480\n",
            "120. Saatte Mikroorganizma Sayısı : 40960\n",
            "130. Saatte Mikroorganizma Sayısı : 81920\n",
            "140. Saatte Mikroorganizma Sayısı : 163840\n",
            "150. Saatte Mikroorganizma Sayısı : 327680\n",
            "160. Saatte Mikroorganizma Sayısı : 655360\n",
            "170. Saatte Mikroorganizma Sayısı : 1310720\n",
            "Başlangıçta 10 tane olan mikroorganizma -> 7 gun ve 2 sonra 1,000,000'u aşmıştır\n"
          ]
        }
      ]
    }
  ]
}
