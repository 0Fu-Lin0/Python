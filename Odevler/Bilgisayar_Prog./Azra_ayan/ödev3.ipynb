4. soru cevabı
import random

rand= random.randint(1, 10)
while True:
    sayi = int(input("1 ile 10 arasında değer girin , çıkış için 0  a basınız :"))
    if (sayi== 0 ):
        print("Çıkış yapıldı.")
        break
    elif sayi < rand:
        print("Daha Yüksek Bir Sayı Girin.")
        continue
    elif sayi > rand:
        print("Daha Düşük Bir Sayı Girin.")
        continue
    else:
        print("Rastele seçilen sayı {0}!".format(rand))


3.soru cevabı
topl=0
saya=0
while True:
    sayın=int(input("sayı giriniz : "))
    if sayın<0:
      break
      topl+=sayın
      saya+=topl
      if sayac>0:
        ortalama=topl/saya
        print("girilen pozitif sayuıların ortalaması : "+ortalama )
      else:
        print(" ")
