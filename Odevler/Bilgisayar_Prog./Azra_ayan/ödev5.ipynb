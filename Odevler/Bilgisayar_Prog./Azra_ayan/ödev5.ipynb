1.soru 
at=input("Lütfen bir sayı giriniz : ")
tplm=0
for rakam in at:
  tplm+=int(rakam)
print("girilen sayının rakamları toplamı : ",tplm)

2.soru
ths=int(input("Lütfen bir sayı giriniz: "))
trs=0
while ths>0:
  bh=ths%10
  trs=(trs*10)+bh
  ths=ths//10
print("Girilen sayının ters çevrilmiş hali : ",trs)

3.soru
a = 1
z = (input("Lutfen cevirmek istediğiniz sayiyi giriniz:"))
uzunluk = len(z)

for i in z:

  alinansayi = int(z)
  basamak = 0
  toplam = 0

  while alinansayi > 0:
     basamak += 1
     alinansayi = alinansayi // 10

     for a in range(basamak):
            k = int(z[a])
            toplam += k * (2 ** (basamak - a - 1))

print("Onluk tabandaki değeri:", toplam)

4.soru
def is_binary_aa(s):
  return all(bit=='0' or bit=='1' for bit in s)
def convert_to_decimal(binary_str):
  if not is_binary_aa(binary_str):
    raise ValueError("girilen değer ikili bir sayı değil!")
    decimal_value=decimal
int(binary_str, 2 )
  return decimal_value
  binary_input=binary
  input("lütfen ikili bir sayı girin : ")
  try:
 decimal_result = convert_to_decimal(binary_input)
    
 decimal_result = convert_to_decimal

 decimal_result = convert_to

 decimal_result = convert

 decimal
print(f"{binary_input} ikili sayısı, ondalık olarak {decimal_result} değerine eşittir.")
    except ValueError as ve:
    print(ve)
