{
  "nbformat": 4,
  "nbformat_minor": 0,
  "metadata": {
    "colab": {
      "provenance": []
    },
    "kernelspec": {
      "name": "python3",
      "display_name": "Python 3"
    },
    "language_info": {
      "name": "python"
    }
  },
  "cells": [
    {
      "cell_type": "code",
      "execution_count": 4,
      "metadata": {
        "colab": {
          "base_uri": "https://localhost:8080/"
        },
        "id": "24P-zkCpwBpf",
        "outputId": "33cbdb7a-0e7e-4e86-a524-fe5d3cd962cb"
      },
      "outputs": [
        {
          "output_type": "stream",
          "name": "stdout",
          "text": [
            "Lütfen bir sayı girin: 27\n",
            "Girilen sayının rakamları toplamı: 9\n"
          ]
        }
      ],
      "source": [
        "sayi = input(\"Lütfen bir sayı girin: \")\n",
        "toplam = 0\n",
        "for rakam in sayi:\n",
        "    toplam += int(rakam)\n",
        "print(\"Girilen sayının rakamları toplamı:\", toplam)"
      ]
    },
    {
      "cell_type": "code",
      "source": [
        "sayi = input(\"Lütfen bir sayı girin: \")\n",
        "print(\"Girilen sayının tersi:\", sayi[::-1])"
      ],
      "metadata": {
        "colab": {
          "base_uri": "https://localhost:8080/"
        },
        "id": "PfzDl9Gvwp7u",
        "outputId": "e575a8e5-496b-4f4d-b73a-97321450fbf3"
      },
      "execution_count": 5,
      "outputs": [
        {
          "output_type": "stream",
          "name": "stdout",
          "text": [
            "Lütfen bir sayı girin: 38\n",
            "Girilen sayının tersi: 83\n"
          ]
        }
      ]
    },
    {
      "cell_type": "code",
      "source": [
        "satir=10\n",
        "for i in range(satir):\n",
        "    print(' '*(satir-i-1) + '*'*(2*i+1))"
      ],
      "metadata": {
        "colab": {
          "base_uri": "https://localhost:8080/"
        },
        "id": "HLuh03idzjne",
        "outputId": "1185c43d-a9ad-4afb-eee1-cd7e8ab601b9"
      },
      "execution_count": 13,
      "outputs": [
        {
          "output_type": "stream",
          "name": "stdout",
          "text": [
            "         *\n",
            "        ***\n",
            "       *****\n",
            "      *******\n",
            "     *********\n",
            "    ***********\n",
            "   *************\n",
            "  ***************\n",
            " *****************\n",
            "*******************\n"
          ]
        }
      ]
    },
    {
      "cell_type": "code",
      "source": [
        "def is_binary(bin_str):\n",
        "    return set(bin_str) <= {'0', '1'}\n",
        "\n",
        "def convert_to_decimal(bin_str):\n",
        "    if not is_binary(bin_str):\n",
        "        return \"Hata: Girdi ikili bir sayı değil.\"\n",
        "    else:\n",
        "        return int(bin_str, 2)"
      ],
      "metadata": {
        "id": "elwZK_Usw-7I"
      },
      "execution_count": 11,
      "outputs": []
    }
  ]
}
