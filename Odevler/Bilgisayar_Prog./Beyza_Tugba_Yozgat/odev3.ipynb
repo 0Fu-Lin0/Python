{
  "nbformat": 4,
  "nbformat_minor": 0,
  "metadata": {
    "colab": {
      "provenance": []
    },
    "kernelspec": {
      "name": "python3",
      "display_name": "Python 3"
    },
    "language_info": {
      "name": "python"
    }
  },
  "cells": [
    {
      "cell_type": "code",
      "execution_count": 1,
      "metadata": {
        "colab": {
          "base_uri": "https://localhost:8080/"
        },
        "id": "kzTRMX26Cxnk",
        "outputId": "bd1aec31-ca84-4f2e-e1a9-0adeabb45892"
      },
      "outputs": [
        {
          "output_type": "stream",
          "name": "stdout",
          "text": [
            "Orjinal yatırımı ikiye katlamak için gereken yıl sayısı: 5\n"
          ]
        }
      ],
      "source": [
        "#alistirma1\n",
        "anapara = 10000\n",
        "faiz_orani = 0.15\n",
        "hedef = anapara * 2\n",
        "yil = 0\n",
        "while anapara < hedef:\n",
        "    anapara = anapara * (1 + faiz_orani)\n",
        "    yil += 1\n",
        "print(\"Orjinal yatırımı ikiye katlamak için gereken yıl sayısı:\", yil)"
      ]
    },
    {
      "cell_type": "code",
      "source": [
        "#alistirma2\n",
        "ilk_sayi = int(input(\"İlk mikroorganizma sayısını giriniz: \"))\n",
        "hedef = 1000000\n",
        "saat = 0\n",
        "gun = 0\n",
        "while ilk_sayi < hedef:\n",
        "    ilk_sayi = ilk_sayi * 2\n",
        "    saat += 10\n",
        "gun = saat // 24\n",
        "kalan_saat = saat % 24\n",
        "print(\"1000000'den fazla organizmaya sahip olmak\", gun, \"gün ve\", kalan_saat, \"saat sürer.\")"
      ],
      "metadata": {
        "colab": {
          "base_uri": "https://localhost:8080/"
        },
        "id": "aYGIcjydC1bW",
        "outputId": "e7408cb8-0487-4a3f-c45a-435046dbf34d"
      },
      "execution_count": 2,
      "outputs": [
        {
          "output_type": "stream",
          "name": "stdout",
          "text": [
            "İlk mikroorganizma sayısını giriniz: 250\n",
            "1000000'den fazla organizmaya sahip olmak 5 gün ve 0 saat sürer.\n"
          ]
        }
      ]
    },
    {
      "cell_type": "code",
      "source": [
        "#alistirma3\n",
        "toplam = 0\n",
        "sayi = 0\n",
        "ortalama = 0\n",
        "deger = int(input(\"Bir değer giriniz: \"))\n",
        "while deger >= 0:\n",
        "    toplam += deger\n",
        "    sayi += 1\n",
        "    ortalama = toplam / sayi\n",
        "    deger = int(input(\"Bir değer giriniz: \"))\n",
        "print(\"Değer girişinin ortalaması:\", ortalama)"
      ],
      "metadata": {
        "colab": {
          "base_uri": "https://localhost:8080/"
        },
        "id": "CLhPlrpBC3k0",
        "outputId": "16c57457-ebf0-4e9e-b1b1-427df5f5ac11"
      },
      "execution_count": 3,
      "outputs": [
        {
          "output_type": "stream",
          "name": "stdout",
          "text": [
            "Bir değer giriniz: 20\n",
            "Bir değer giriniz: 28\n",
            "Bir değer giriniz: 32\n",
            "Bir değer giriniz: 25\n",
            "Bir değer giriniz: -14\n",
            "Değer girişinin ortalaması: 26.25\n"
          ]
        }
      ]
    },
    {
      "cell_type": "code",
      "source": [
        "#alistirma4\n",
        "import random\n",
        "sayi = random.randint(1, 10)\n",
        "tahmin = 0\n",
        "tahmin_sayisi = 0\n",
        "while tahmin != sayi:\n",
        "    tahmin = int(input(\"1 ile 10 arasında bir sayı tahmin ediniz: \"))\n",
        "    tahmin_sayisi += 1\n",
        "    if tahmin < sayi:\n",
        "        print(\"Daha büyük bir sayı tahmin ediniz.\")\n",
        "    elif tahmin > sayi:\n",
        "        print(\"Daha küçük bir sayı tahmin ediniz.\")\n",
        "    else:\n",
        "        print(\"Tebrikler! Doğru sayıyı buldunuz.\")\n",
        "print(\"Yapılan tahminlerin sayısı:\", tahmin_sayisi)"
      ],
      "metadata": {
        "colab": {
          "base_uri": "https://localhost:8080/"
        },
        "id": "CsEaMvIuC6Aq",
        "outputId": "6f94b3ca-cc63-4562-88c1-aa166c96b6b5"
      },
      "execution_count": 4,
      "outputs": [
        {
          "output_type": "stream",
          "name": "stdout",
          "text": [
            "1 ile 10 arasında bir sayı tahmin ediniz: 2\n",
            "Daha büyük bir sayı tahmin ediniz.\n",
            "1 ile 10 arasında bir sayı tahmin ediniz: 4\n",
            "Daha küçük bir sayı tahmin ediniz.\n",
            "1 ile 10 arasında bir sayı tahmin ediniz: 3\n",
            "Tebrikler! Doğru sayıyı buldunuz.\n",
            "Yapılan tahminlerin sayısı: 3\n"
          ]
        }
      ]
    }
  ]
}
