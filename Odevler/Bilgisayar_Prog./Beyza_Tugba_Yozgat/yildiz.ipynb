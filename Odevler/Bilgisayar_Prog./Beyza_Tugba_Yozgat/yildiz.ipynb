{
  "nbformat": 4,
  "nbformat_minor": 0,
  "metadata": {
    "colab": {
      "provenance": []
    },
    "kernelspec": {
      "name": "python3",
      "display_name": "Python 3"
    },
    "language_info": {
      "name": "python"
    }
  },
  "cells": [
    {
      "cell_type": "code",
      "execution_count": 1,
      "metadata": {
        "colab": {
          "base_uri": "https://localhost:8080/"
        },
        "id": "VP7pgltUpUwX",
        "outputId": "a003b463-8b52-4d31-e853-09a4d996ec16"
      },
      "outputs": [
        {
          "output_type": "stream",
          "name": "stdout",
          "text": [
            "    *\n",
            "   ***\n",
            "  *****\n",
            " *******\n",
            "*********\n",
            " *******\n",
            "  *****\n",
            "   ***\n",
            "    *\n"
          ]
        }
      ],
      "source": [
        "def draw_star(n):\n",
        "    for i in range(n):\n",
        "        print(' '*(n-i-1) + '*'*(2*i+1))\n",
        "    for i in range(n-2, -1, -1):\n",
        "        print(' '*(n-i-1) + '*'*(2*i+1))\n",
        "\n",
        "draw_star(5)"
      ]
    }
  ]
}
