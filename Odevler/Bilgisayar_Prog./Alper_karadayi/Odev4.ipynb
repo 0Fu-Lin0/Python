{
  "nbformat": 4,
  "nbformat_minor": 0,
  "metadata": {
    "colab": {
      "provenance": []
    },
    "kernelspec": {
      "name": "python3",
      "display_name": "Python 3"
    },
    "language_info": {
      "name": "python"
    }
  },
  "cells": [
    {
      "cell_type": "markdown",
      "source": [
        "CEVAP 1"
      ],
      "metadata": {
        "id": "kRy01-vsonlf"
      }
    },
    {
      "cell_type": "code",
      "execution_count": null,
      "metadata": {
        "id": "YwCRf7MBojhk"
      },
      "outputs": [],
      "source": [
        "def RakamlarToplami(Sayi):\n",
        "    if Sayi < 0:\n",
        "        return \"Lütfen Pozitif Bir Sayı Girin.\"\n",
        "    else:\n",
        "        toplam = 0\n",
        "        while Sayi > 0:\n",
        "            toplam += Sayi % 10\n",
        "            Sayi //= 10\n",
        "        return toplam\n",
        "\n",
        "GirilenSayi = int(input(\"Lütfen Bir Sayı Girin: \"))\n",
        "toplam = RakamlarToplami(GirilenSayi)\n",
        "print(f\"Girilen Sayının Rakamları Toplamı: {toplam}\")"
      ]
    },
    {
      "cell_type": "markdown",
      "source": [
        "CEVAP 2"
      ],
      "metadata": {
        "id": "225XNVq6oyqe"
      }
    },
    {
      "cell_type": "code",
      "source": [
        "def SayininTersi(sayi):\n",
        "    ters = 0\n",
        "    while sayi > 0:\n",
        "        kalan = sayi % 10\n",
        "        ters = (ters * 10) + kalan\n",
        "        sayi = sayi // 10\n",
        "    return ters\n",
        "\n",
        "GirilenSayi = int(input(\"Lütfen Bir Sayı Girin: \"))\n",
        "TersSayi = SayininTersi(GirilenSayi)\n",
        "print(f\"Girilen Sayının Tersi: {TersSayi}\")"
      ],
      "metadata": {
        "id": "DxpAR4pXo0zC"
      },
      "execution_count": null,
      "outputs": []
    },
    {
      "cell_type": "markdown",
      "source": [
        "CEVAP 3"
      ],
      "metadata": {
        "id": "6HQpvGUeo47v"
      }
    },
    {
      "cell_type": "code",
      "source": [
        "def isBinary(dizi):\n",
        "    return all(x == '0' or x == '1' for x in dizi)\n",
        "\n",
        "def ConvertToDecimal(dizi):\n",
        "    if not isBinary(dizi):\n",
        "        return \"Geçersiz ikili sayı!\"\n",
        "\n",
        "    OndalikSonuc = 0\n",
        "    uzunluk = len(dizi)\n",
        "\n",
        "    for i in range(uzunluk):\n",
        "        ondalik_sonuc += int(dizi[i]) * (2 ** (uzunluk - i - 1))\n",
        "\n",
        "    return OndalikSonuc\n",
        "\n",
        "İkiliDizi = input(\"İkilik değer giriniz: \")\n",
        "\n",
        "OndalikDeger = ConvertToDecimal(İkiliDizi)\n",
        "print(f\"{İkiliDizi} İkili Sayısı Ondalık Eşdeğeri: {OndalikDeger}\")"
      ],
      "metadata": {
        "id": "iQ0Hsmoho6Wo"
      },
      "execution_count": null,
      "outputs": []
    }
  ]
}
