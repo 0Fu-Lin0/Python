{
  "nbformat": 4,
  "nbformat_minor": 0,
  "metadata": {
    "colab": {
      "provenance": []
    },
    "kernelspec": {
      "name": "python3",
      "display_name": "Python 3"
    },
    "language_info": {
      "name": "python"
    }
  },
  "cells": [
    {
      "cell_type": "markdown",
      "source": [
        "CEVAP 1"
      ],
      "metadata": {
        "id": "gzwBSmQoAInv"
      }
    },
    {
      "cell_type": "code",
      "execution_count": null,
      "metadata": {
        "id": "FXZK_HXi_8Os"
      },
      "outputs": [],
      "source": [
        "AnaPara = int(input(\"Para giriniz: \"))\n",
        "faiz = 0.15\n",
        "\n",
        "FinalPara = AnaPara*2\n",
        "yil = 0\n",
        "\n",
        "while AnaPara < FinalPara:\n",
        "    AnaPara += AnaPara*faiz\n",
        "    yil += 1\n",
        "\n",
        "print(f\"{yil} Yıl Sonra Ana Paranın 2 Katına Çıkar \")"
      ]
    },
    {
      "cell_type": "markdown",
      "source": [
        "CEVAP 2"
      ],
      "metadata": {
        "id": "rlMv0nLXDGSG"
      }
    },
    {
      "cell_type": "code",
      "source": [
        "BaslangicSayisi = int(input(\"Başlangıç mikroorganizma sayısını girin: \"))\n",
        "HedefMikro = 1000000\n",
        "gun = 0\n",
        "saat = 0\n",
        "\n",
        "while BaslangicSayisi < HedefMikro:\n",
        "    BaslangicSayisi *= 2\n",
        "    saat += 10\n",
        "    if saat >= 24:\n",
        "        saat = 0\n",
        "        gun += 1\n",
        "\n",
        "print(f\"{gun} Gün {saat} Saat Sonra Mikroorganizma Popülasyonu {HedefMikro}\")"
      ],
      "metadata": {
        "id": "m5Zr5f4pDIpr"
      },
      "execution_count": null,
      "outputs": []
    },
    {
      "cell_type": "markdown",
      "source": [
        "CEVAP 3"
      ],
      "metadata": {
        "id": "ffpDUg5HEx7W"
      }
    },
    {
      "cell_type": "code",
      "source": [
        "Toplam = 0\n",
        "Sayac = 0\n",
        "\n",
        "while True:\n",
        "    Sayi = int(input(\"Pozitif Tam Sayı Giriniz: \"))\n",
        "\n",
        "    if Sayi < 0:\n",
        "        break\n",
        "\n",
        "    Toplam += Sayi\n",
        "    Sayac += 1\n",
        "\n",
        "if Sayac > 0:\n",
        "    Ort = Toplam / Sayac\n",
        "    print(f\"Girdiğiniz Pozitif Sayıların Toplamı: {Toplam}\")\n",
        "    print(f\"Girdiğiniz Pozitif Sayıların Ortalaması: {Ort}\")\n",
        "\n",
        "else:\n",
        "    print(\"Pozitif Sayı Girilmedi.\")"
      ],
      "metadata": {
        "id": "UksKmd9iEzwC"
      },
      "execution_count": null,
      "outputs": []
    },
    {
      "cell_type": "markdown",
      "source": [
        "CEVAP 4"
      ],
      "metadata": {
        "id": "LEF6ekDhHVQb"
      }
    },
    {
      "cell_type": "code",
      "source": [
        "import random\n",
        "\n",
        "def TahminOyunu():\n",
        "    HedefSayi = random.randint(1, 10)\n",
        "    DenemeSayisi = 0\n",
        "\n",
        "    while True:\n",
        "        KullaniciTahmini = int(input(\"Tahmininizi Girin (1 ile 10 Arasında): \"))\n",
        "        DenemeSayisi += 1\n",
        "\n",
        "        if KullaniciTahmini == HedefSayi:\n",
        "            print(f\"Tebrikler! {DenemeSayisi}. Denemede Doğru Tahmin Ettiniz.\")\n",
        "            break\n",
        "        elif KullaniciTahmini < HedefSayi:\n",
        "            print(\"Daha Yüksek Bir Sayı Tahmin Edin.\")\n",
        "        else:\n",
        "            print(\"Daha Düşük Bir Sayı Tahmin Edin.\")\n",
        "\n",
        "TahminOyunu()"
      ],
      "metadata": {
        "id": "eDC0am7oHW3u"
      },
      "execution_count": null,
      "outputs": []
    },
    {
      "cell_type": "markdown",
      "source": [
        "CEVAP 5"
      ],
      "metadata": {
        "id": "hnamcVnEIlEA"
      }
    },
    {
      "cell_type": "code",
      "source": [
        "def Ucgen(Boyut):\n",
        "    for i in range(1, Boyut + 1):\n",
        "        Bosluk = ' ' * (Boyut - i)\n",
        "        Yildiz = '*' * (2 * i - 1)\n",
        "        print(Bosluk + Yildiz)\n",
        "\n",
        "Boyut = int(input(\"Üçgenin Kaç Satır Olmasını İstersiniz ? : \"))\n",
        "Ucgen(Boyut)"
      ],
      "metadata": {
        "id": "JOMkjaVkImS4"
      },
      "execution_count": null,
      "outputs": []
    }
  ]
}
