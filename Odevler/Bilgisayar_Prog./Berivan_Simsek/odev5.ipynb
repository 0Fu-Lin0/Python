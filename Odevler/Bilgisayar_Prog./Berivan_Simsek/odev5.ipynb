def rakamlarToplami(sayi):
    toplam = 0
    while sayi > 0:
        toplam += sayi % 10
        sayi //= 10
    return toplam
sayim = int(input("Pozitif bir sayı giriniz: ")) 
sonuc = rakamlarToplami(sayim)
print(f"{sayim} sayısının rakamları toplamı: {sonuc}")


def DuzSayi(sayi):
    TersSayi = int(str(sayi)[::-1]) 
    return TersSayi
sayim= int(input("Bir sayı giriniz: "))
sonuc = DuzSayi(sayim)
print(f"{sayim} sayısının tersi: {sonuc}")


def ikiliCevirme(dizi):
    tersDizi = dizi[::-1]
    ondalikDeger = 0
    for i in range(len(tersDizi)):
        ondalikDeger += int(tersDizi[i]) * (2 ** i)
    return ondalikDeger
sayi = input("İkili sayıyı giriniz: ")
sonuc = ikiliCevirme(sayi)
print(f"{sayi} ikili sayısının ondalık eşdeğeri: {sonuc}")


#Yıldız piramidi
MAX_ROWS = 10
for row in range(1, MAX_ROWS + 1, 1):
    for space in range(MAX_ROWS - row):
        print(" ", end='')
    for star in range(1, 2 * row):
        print("*", end='')
    print()
