bankaHesabi=10000
yillikFaizOrani=15
yillikFaizliPara=(bankaHesabi*yillikFaizOrani)/100
toplam=bankaHesabi/yillikFaizliPara
print("Paranız "f'{toplam:.1f} sene sonra iki katına çıkacaktır.')


mikroorganizma=int(input('Mikroorganizma sayısını giriniz: '))
sayac = 0
saat = 0
while (mikroorganizma < 1000000):
  if saat==10:
    saat=0
    mikroorganizma *= 2
    sayac += 1
  saat += 1
gun = (sayac*10) // 24
kacSaat = gun % 24
print(f"1.000.000'a ulaştığı süre: {gun} gün, {saat} saat")


top=0
while 1:
  sayi=int(input('Sayı girin: '))
  if sayi<0:
    break
  top += sayi
print('Sayıların toplamı: ',top)


import random
num=random.randint(1,11)
sayac=0
while 1:
  tahmin=int(input('Tahmin et bakayım: '))
  sayac += 1
  if tahmin==num:
    break
print('Sonunda buldun! Bulana kadar',sayac,'kere denedin.6')

