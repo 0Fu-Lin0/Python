{
 "cells": [
  {
   "cell_type": "code",
   "execution_count": 1,
   "id": "41b6044f",
   "metadata": {},
   "outputs": [
    {
     "name": "stdout",
     "output_type": "stream",
     "text": [
      "%15 faiz oranıyla bankadaki parayı ikiye katlamak için gereken yıl:  5\n"
     ]
    }
   ],
   "source": [
    "bankadakipara=10000;\n",
    "faiz=15\n",
    "yil=0\n",
    "while bankadakipara <20000:\n",
    "    bankadakipara += bankadakipara *(faiz/100)\n",
    "    yil +=1\n",
    "print(\"%15 faiz oranıyla bankadaki parayı ikiye katlamak için gereken yıl: \",yil)"
   ]
  },
  {
   "cell_type": "code",
   "execution_count": 2,
   "id": "57a4cccc",
   "metadata": {},
   "outputs": [
    {
     "name": "stdout",
     "output_type": "stream",
     "text": [
      "ilk organizma sayısını giriniz: 5000\n",
      "5000 mikroorganizma, 1000000 mikroorganizmaya ulaşması için 3 gün 8 saat sürdü.\n"
     ]
    }
   ],
   "source": [
    "ilkorganizma= int(input(\"ilk organizma sayısını giriniz: \"))\n",
    "sonucorg=1000000\n",
    "saat=0\n",
    "gun=0\n",
    "mikroorg=ilkorganizma\n",
    "while mikroorg<sonucorg:\n",
    "    mikroorg *=2\n",
    "    saat +=10\n",
    "    if saat >=24:\n",
    "        saat -=24\n",
    "        gun +=1\n",
    "\n",
    "print(f\"{ilkorganizma} mikroorganizma, {sonucorg} mikroorganizmaya ulaşması için {gun} gün {saat} saat sürdü.\")"
   ]
  },
  {
   "cell_type": "code",
   "execution_count": 4,
   "id": "f6b71c8e",
   "metadata": {},
   "outputs": [
    {
     "name": "stdout",
     "output_type": "stream",
     "text": [
      "Pozitif bir sayı girin: 15\n",
      "Pozitif bir sayı girin: 20\n",
      "Pozitif bir sayı girin: 10\n",
      "Pozitif bir sayı girin: 0\n",
      "Pozitif bir sayı girin: -15\n",
      "Girilen pozitif sayıların ortalaması: 11.25\n"
     ]
    }
   ],
   "source": [
    "toplam = 0\n",
    "sayac = 0\n",
    "\n",
    "while True:\n",
    "    sayi = int(input(\"Pozitif bir sayı girin: \"))\n",
    "    if sayi < 0:\n",
    "        break \n",
    "    toplam += sayi\n",
    "    sayac += 1\n",
    "\n",
    "if sayac > 0:\n",
    "    ortalama = toplam / sayac\n",
    "    print(\"Girilen pozitif sayıların ortalaması:\",ortalama)\n",
    "else:\n",
    "    print(\"Hiç pozitif tamsayı girilmedi.\")"
   ]
  },
  {
   "cell_type": "code",
   "execution_count": 7,
   "id": "86b5eb3a",
   "metadata": {},
   "outputs": [
    {
     "name": "stdout",
     "output_type": "stream",
     "text": [
      "1 ile 10 arasında bir sayı tahmin edin.\n",
      "Tahmininizi girin: 7\n",
      "Daha düşük bir sayı tahmin edin.\n",
      "Tahmininizi girin: 6\n",
      "Tebrikler 6 sayısını 2 tahminde buldunuz.\n",
      "Oyun bitti.\n"
     ]
    }
   ],
   "source": [
    "import random\n",
    "gerceksayi = random.randint(1, 10) \n",
    "tahminsayisi = 0\n",
    "\n",
    "print(\"1 ile 10 arasında bir sayı tahmin edin.\")\n",
    "\n",
    "while True:\n",
    "    tahmin = int(input(\"Tahmininizi girin: \"))\n",
    "    tahminsayisi += 1\n",
    "\n",
    "    if tahmin < gerceksayi:\n",
    "        print(\"Daha yüksek bir sayı tahmin edin.\")\n",
    "    elif tahmin > gerceksayi:\n",
    "        print(\"Daha düşük bir sayı tahmin edin.\")\n",
    "    else:\n",
    "        print(f\"Tebrikler {gerceksayi} sayısını {tahminsayisi} tahminde buldunuz.\")\n",
    "        break\n",
    "\n",
    "print(\"Oyun bitti.\")"
   ]
  }
 ],
 "metadata": {
  "kernelspec": {
   "display_name": "Python 3 (ipykernel)",
   "language": "python",
   "name": "python3"
  },
  "language_info": {
   "codemirror_mode": {
    "name": "ipython",
    "version": 3
   },
   "file_extension": ".py",
   "mimetype": "text/x-python",
   "name": "python",
   "nbconvert_exporter": "python",
   "pygments_lexer": "ipython3",
   "version": "3.11.5"
  }
 },
 "nbformat": 4,
 "nbformat_minor": 5
}
