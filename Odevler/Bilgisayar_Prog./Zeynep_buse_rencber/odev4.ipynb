{
 "cells": [
  {
   "cell_type": "code",
   "execution_count": 6,
   "id": "6e14b84b",
   "metadata": {},
   "outputs": [
    {
     "name": "stdout",
     "output_type": "stream",
     "text": [
      "Pozitif bir sayı giriniz: 17\n",
      "17 sayısının rakamları toplamı: 8\n"
     ]
    }
   ],
   "source": [
    "def rakamlarintoplami(sayi):\n",
    "     rakamlar = [int(rakam) for rakam in str(sayi)]\n",
    "     toplam = sum(rakamlar)\n",
    "     return toplam\n",
    "sayi = int(input(\"Pozitif bir sayı giriniz: \"))\n",
    "sonuc = rakamlarintoplami(sayi)\n",
    "print(f\"{sayi} sayısının rakamları toplamı: {sonuc}\")"
   ]
  },
  {
   "cell_type": "code",
   "execution_count": 2,
   "id": "74237503",
   "metadata": {},
   "outputs": [
    {
     "name": "stdout",
     "output_type": "stream",
     "text": [
      "Bir sayı giriniz: 15\n",
      "15 sayısının tersi: 51\n"
     ]
    }
   ],
   "source": [
    "def tersi(sayi):\n",
    "    terssayi = str(sayi)[::-1]\n",
    "    return int(terssayi)\n",
    "sayi = int(input(\"Bir sayı giriniz: \"))\n",
    "sonuc = tersi(sayi)\n",
    "print(f\"{sayi} sayısının tersi: {sonuc}\")"
   ]
  },
  {
   "cell_type": "code",
   "execution_count": 9,
   "id": "20eac3a1",
   "metadata": {},
   "outputs": [
    {
     "name": "stdout",
     "output_type": "stream",
     "text": [
      "İkili bir sayı giriniz: 101\n",
      "101 sayısının ondalık eşdeğeri: 5\n"
     ]
    }
   ],
   "source": [
    "def is_binary(dizge):\n",
    "    return all(bit in '01' for bit in dizge)\n",
    "\n",
    "def convert_to_decimal(binary_str):\n",
    "    if is_binary(binary_str):\n",
    "        decimal_value = int(binary_str, 2)\n",
    "        return decimal_value\n",
    "    else:\n",
    "        raise ValueError(\"Geçersiz ikili sayı: {}\".format(binary_str))\n",
    "\n",
    "binary_input = input(\"İkili bir sayı giriniz: \")\n",
    "\n",
    "try:\n",
    "    decimal_result = convert_to_decimal(binary_input)\n",
    "    print(\"{} sayısının ondalık eşdeğeri: {}\".format(binary_input, decimal_result))\n",
    "except ValueError as hata:\n",
    "    print(\"Hata: {}\".format(hata))"
   ]
  }
 ],
 "metadata": {
  "kernelspec": {
   "display_name": "Python 3 (ipykernel)",
   "language": "python",
   "name": "python3"
  },
  "language_info": {
   "codemirror_mode": {
    "name": "ipython",
    "version": 3
   },
   "file_extension": ".py",
   "mimetype": "text/x-python",
   "name": "python",
   "nbconvert_exporter": "python",
   "pygments_lexer": "ipython3",
   "version": "3.11.5"
  }
 },
 "nbformat": 4,
 "nbformat_minor": 5
}
