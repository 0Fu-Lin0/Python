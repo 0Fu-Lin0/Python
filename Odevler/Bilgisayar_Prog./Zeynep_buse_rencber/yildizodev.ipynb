{
  "nbformat": 4,
  "nbformat_minor": 0,
  "metadata": {
    "colab": {
      "provenance": []
    },
    "kernelspec": {
      "name": "python3",
      "display_name": "Python 3"
    },
    "language_info": {
      "name": "python"
    }
  },
  "cells": [
    {
      "cell_type": "code",
      "execution_count": 3,
      "metadata": {
        "colab": {
          "base_uri": "https://localhost:8080/"
        },
        "id": "l_R7TQJtO6Wx",
        "outputId": "a047f8e7-0d12-451d-ce82-c2fb999a288e"
      },
      "outputs": [
        {
          "output_type": "stream",
          "name": "stdout",
          "text": [
            "    *\n",
            "   ***\n",
            "  *****\n",
            " *******\n",
            "*********\n"
          ]
        }
      ],
      "source": [
        "def yildiz_ucgen(boyut):\n",
        "    for i in range(1, boyut + 1):\n",
        "        bosluk_sayisi = boyut - i\n",
        "        yildiz_sayisi = 2 * i - 1\n",
        "        bosluklar = ' ' * bosluk_sayisi\n",
        "        yildizlar = '*' * yildiz_sayisi\n",
        "        print(bosluklar + yildizlar)\n",
        "\n",
        "yukseklik = 5\n",
        "yildiz_ucgen(yukseklik)\n"
      ]
    }
  ]
}
