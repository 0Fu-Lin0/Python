{
  "nbformat": 4,
  "nbformat_minor": 0,
  "metadata": {
    "colab": {
      "provenance": []
    },
    "kernelspec": {
      "name": "python3",
      "display_name": "Python 3"
    },
    "language_info": {
      "name": "python"
    }
  },
  "cells": [
    {
      "cell_type": "markdown",
      "source": [
        "Cevap 1"
      ],
      "metadata": {
        "id": "Aqu_gfZVTbif"
      }
    },
    {
      "cell_type": "code",
      "source": [
        "triangle_height = int(input(\"Üçgenin yüksekliğini girin: \"))\n",
        "\n",
        "for i in range(1, triangle_height + 1):\n",
        "    number_of_spaces = triangle_height - i\n",
        "    number_of_stars = 2 * i - 1\n",
        "    spaces = ' ' * number_of_spaces\n",
        "    stars = '*' * number_of_stars\n",
        "    print(spaces + stars)"
      ],
      "metadata": {
        "id": "DxQIbQn7TeG8"
      },
      "execution_count": null,
      "outputs": []
    },
    {
      "cell_type": "markdown",
      "source": [
        "Cevap 2"
      ],
      "metadata": {
        "id": "d6EeVx6qTk4N"
      }
    },
    {
      "cell_type": "code",
      "source": [
        "yatirim = float(input(\"Yatırım miktarını girin: \"))\n",
        "faiz = 0.15\n",
        "hedef = yatirim * 2\n",
        "yil = 0\n",
        "\n",
        "while yatirim < hedef:\n",
        "    yatirim += yatirim * faiz\n",
        "    yil += 1\n",
        "\n",
        "print(f\"{yil} yıl sonra yatırımınız {hedef} kadar olacaktır.\")"
      ],
      "metadata": {
        "id": "8k9JRlFUTmIe"
      },
      "execution_count": null,
      "outputs": []
    },
    {
      "cell_type": "markdown",
      "source": [
        "Cevap 3"
      ],
      "metadata": {
        "id": "c6eils50Tow4"
      }
    },
    {
      "cell_type": "code",
      "source": [
        "ilk_pop = int(input(\"Mikroorganizma sayısını girin: \"))\n",
        "\n",
        "hedef_pop = 1000000\n",
        "\n",
        "gun = 0\n",
        "saat = 0\n",
        "\n",
        "while ilk_pop < hedef_pop:\n",
        "    ilk_pop *= 2\n",
        "    saat += 10\n",
        "\n",
        "    if saat >= 24:\n",
        "        gun += 1\n",
        "        saat -= 24\n",
        "\n",
        "print(f\"{hedef_pop} mikroorganizmaya ulaşmak için {gun} gün {saat} saat gerekir.\")"
      ],
      "metadata": {
        "id": "Wj_OyKkXTqCP"
      },
      "execution_count": null,
      "outputs": []
    },
    {
      "cell_type": "markdown",
      "source": [
        "Cevap 4"
      ],
      "metadata": {
        "id": "W44MU1_9Tthg"
      }
    },
    {
      "cell_type": "code",
      "source": [
        "toplam = 0\n",
        "sayac = 0\n",
        "\n",
        "while True:\n",
        "    sayi = int(input(\"Pozitif bir tamsayı girin (Çıkmak için negatif bir sayı girin): \"))\n",
        "\n",
        "    if sayi < 0:\n",
        "        if sayac == 0:\n",
        "            print(\"Hiç pozitif sayı girilmedi.\")\n",
        "        else:\n",
        "            ortalama = toplam / sayac\n",
        "            print(f\"Girilen pozitif sayıların ortalaması: {ortalama}\")\n",
        "        break\n",
        "\n",
        "    toplam += sayi\n",
        "    sayac += 1"
      ],
      "metadata": {
        "id": "jX3M7_GXTvqE"
      },
      "execution_count": null,
      "outputs": []
    },
    {
      "cell_type": "markdown",
      "source": [
        "Cevap 5"
      ],
      "metadata": {
        "id": "kRHz95AFT6V6"
      }
    },
    {
      "cell_type": "code",
      "source": [
        "import random\n",
        "\n",
        "sayi_tut = random.randint(1, 10)\n",
        "tahmin_sayisi = 0\n",
        "\n",
        "print(\"1 ile 10 arasında bir sayı tuttum.\")\n",
        "\n",
        "while True:\n",
        "    tahmin = int(input(\"Tahmin alayım: \"))\n",
        "    tahmin_sayisi += 1\n",
        "\n",
        "    if tahmin < sayi_tut:\n",
        "        print(\"Bu az oldu, çık bakim biraz\")\n",
        "    elif tahmin > sayi_tut:\n",
        "        print(\"Hoop! Nere gidiyon in bakim aşağı\")\n",
        "    else:\n",
        "        print(f\"Aferin! {tahmin_sayisi} tahminde buldun.\")\n",
        "        break"
      ],
      "metadata": {
        "id": "Ww1vz6UcTstk"
      },
      "execution_count": null,
      "outputs": []
    }
  ]
}
