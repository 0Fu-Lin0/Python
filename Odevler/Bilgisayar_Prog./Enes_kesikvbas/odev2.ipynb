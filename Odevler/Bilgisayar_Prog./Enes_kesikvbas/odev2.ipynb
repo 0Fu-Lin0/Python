{
  "nbformat": 4,
  "nbformat_minor": 0,
  "metadata": {
    "colab": {
      "provenance": []
    },
    "kernelspec": {
      "name": "python3",
      "display_name": "Python 3"
    },
    "language_info": {
      "name": "python"
    }
  },
  "cells": [
    {
      "cell_type": "markdown",
      "source": [
        "**1. sorunun cevabı:**"
      ],
      "metadata": {
        "id": "UEUmceuU4xMe"
      }
    },
    {
      "cell_type": "code",
      "source": [
        "sayi=int(input(\"Bir sayı giriniz: \"))\n",
        "\n",
        "if sayi%5==0 and sayi%7==0:\n",
        "    print(\"Girdiğiniz sayı hem 5'e hem de 7'ye tam bölünüyor.\")\n",
        "elif sayi%5==0:\n",
        "    print(\"Girdiğiniz sayı 5'e tam bölünüyor.\")\n",
        "elif sayi%7==0:\n",
        "    print(\"Girdiğiniz sayı 7'ye tam bölünüyor.\")\n",
        "else:\n",
        "    print(\"Girdiğiniz sayı 5'e veya 7'ye tam bölünmüyor.\")"
      ],
      "metadata": {
        "id": "KSox_Jzo46Pb"
      },
      "execution_count": null,
      "outputs": []
    },
    {
      "cell_type": "markdown",
      "source": [
        "**2. sorunun cevabı:**"
      ],
      "metadata": {
        "id": "nsuZnEGY5CpM"
      }
    },
    {
      "cell_type": "code",
      "source": [
        "import random\n",
        "\n",
        "while True:\n",
        "    rastgele_sayi = random.randint(1, 9)\n",
        "    tahmin = int(input(\"1 ile 9 arasında bir sayı tahmin edin (çıkmak için 'q' yazın): \"))\n",
        "\n",
        "    if tahmin == rastgele_sayi:\n",
        "        print(\"İyi tahmin!\")\n",
        "        break\n",
        "    elif tahmin == 'q':\n",
        "        print(\"Oyunu çıkış yaptınız. Doğru sayı\", rastgele_sayi)\n",
        "        break\n",
        "    else:\n",
        "        print(\"Yanlış tahmin. Tekrar deneyin.\")"
      ],
      "metadata": {
        "id": "n4za6fqP5FtX"
      },
      "execution_count": null,
      "outputs": []
    },
    {
      "cell_type": "markdown",
      "source": [
        "**3. sorunun cevabı:**"
      ],
      "metadata": {
        "id": "BSXCvMZr5OZQ"
      }
    },
    {
      "cell_type": "code",
      "source": [
        "kelime = input(\"Bir kelime girin: \")\n",
        "\n",
        "uzunluk = len(kelime)\n",
        "\n",
        "if uzunluk < 2:\n",
        "    print(\"Kelime en az iki harf içermelidir.\")\n",
        "elif kelime[0] == kelime[uzunluk - 1]:\n",
        "    print(\"Girdiğiniz kelimenin başı ve sonu aynı harfe sahip.\")\n",
        "else:\n",
        "    print(\"Girdiğiniz kelimenin başı ve sonu farklı harflere sahip.\")"
      ],
      "metadata": {
        "id": "FpF3Nr1Q5Ro-"
      },
      "execution_count": null,
      "outputs": []
    },
    {
      "cell_type": "markdown",
      "source": [
        "**4. sorunun cevabı:**"
      ],
      "metadata": {
        "id": "a8uSbvyw5cdd"
      }
    },
    {
      "cell_type": "code",
      "source": [
        "boy = float(input(\"Boy (m cinsinden): \"))\n",
        "kg = float(input(\"Kilogram: \"))\n",
        "\n",
        "bmi = kg / (boy ** 2)\n",
        "\n",
        "print(\"Beden Kitle İndeksiniz (BMI): \", bmi)\n",
        "\n",
        "if bmi < 20:\n",
        "    print(\"Zayıfsınız.\")\n",
        "elif 20 <= bmi < 24.9:\n",
        "    print(\"Normal kilodasınız.\")\n",
        "elif 25 <= bmi < 30:\n",
        "    print(\"Fazla kilolusunuz.\")\n",
        "else:\n",
        "    print(\"Obezsiniz.\")"
      ],
      "metadata": {
        "id": "kJU_1Qlx5hTV"
      },
      "execution_count": null,
      "outputs": []
    },
    {
      "cell_type": "markdown",
      "source": [
        "**Dönem ortalaması hesaplama:**"
      ],
      "metadata": {
        "id": "cVfuGuMN5q8V"
      }
    },
    {
      "cell_type": "code",
      "source": [
        "vize_notu = float(input(\"Vize Notu: \"))\n",
        "final_notu = float(input(\"Final Notu: \"))\n",
        "\n",
        "ortalama = (vize_notu * 0.4) + (final_notu * 0.6)\n",
        "\n",
        "if ortalama >= 90:\n",
        "    harf_notu = \"AA\"\n",
        "elif ortalama >= 85:\n",
        "    harf_notu = \"BA\"\n",
        "elif ortalama >= 80:\n",
        "    harf_notu = \"BB\"\n",
        "elif ortalama >= 75:\n",
        "    harf_notu = \"CB\"\n",
        "elif ortalama >= 70:\n",
        "    harf_notu = \"CC\"\n",
        "elif ortalama >= 65:\n",
        "    harf_notu = \"DC\"\n",
        "elif ortalama >= 60:\n",
        "    harf_notu = \"DD\"\n",
        "elif ortalama >= 50:\n",
        "    harf_notu = \"FD\"\n",
        "else:\n",
        "    harf_notu = \"FF\"\n",
        "\n",
        "print(\"Ortalama:\", ortalama)\n",
        "print(\"Harf Notu:\", harf_notu)"
      ],
      "metadata": {
        "id": "QtpZN0zo5wrs"
      },
      "execution_count": null,
      "outputs": []
    }
  ]
}
