{
  "nbformat": 4,
  "nbformat_minor": 0,
  "metadata": {
    "colab": {
      "provenance": []
    },
    "kernelspec": {
      "name": "python3",
      "display_name": "Python 3"
    },
    "language_info": {
      "name": "python"
    }
  },
  "cells": [
    {
      "cell_type": "markdown",
      "source": [
        "**1. sorunun cevabı**"
      ],
      "metadata": {
        "id": "NOn7arFGyult"
      }
    },
    {
      "cell_type": "code",
      "execution_count": null,
      "metadata": {
        "id": "QbmdDPmLyrDS"
      },
      "outputs": [],
      "source": [
        "def rakamlar_toplami(sayi):\n",
        "    toplam = 0\n",
        "    while sayi > 0:\n",
        "        rakam = sayi % 10\n",
        "        toplam += rakam\n",
        "        sayi //= 10\n",
        "    return toplam\n",
        "\n",
        "try:\n",
        "    girilen_sayi = int(input(\"Pozitif bir tam sayı girin: \"))\n",
        "    if girilen_sayi > 0:\n",
        "        sonuc = rakamlar_toplami(girilen_sayi)\n",
        "        print(f\"{girilen_sayi} sayısının rakamlarının toplamı: {sonuc}\")\n",
        "    else:\n",
        "        print(\"Lütfen pozitif bir tam sayı girin.\")\n",
        "except ValueError:\n",
        "    print(\"Geçerli bir tam sayı girmediniz.\")"
      ]
    },
    {
      "cell_type": "markdown",
      "source": [
        "**2. sorunun cevabı**"
      ],
      "metadata": {
        "id": "Mi86pC0GzMGS"
      }
    },
    {
      "cell_type": "code",
      "source": [
        "def cevir(sayi):\n",
        "    return int(str(sayi)[::-1])\n",
        "\n",
        "sayi = int(input(\"Bir sayı girin: \"))\n",
        "cevrilen_sayi = cevir(sayi)\n",
        "print(cevrilen_sayi)"
      ],
      "metadata": {
        "id": "nHZhCY31zPK9"
      },
      "execution_count": null,
      "outputs": []
    },
    {
      "cell_type": "markdown",
      "source": [
        "**3. sorunun cevabı**"
      ],
      "metadata": {
        "id": "WTfyHsyTzvue"
      }
    },
    {
      "cell_type": "code",
      "source": [
        "def is_binary(s):\n",
        "    return all(bit in '01' for bit in s)\n",
        "\n",
        "def convert_to_decimal(ikili_dize):\n",
        "    if not is_binary(ikili_dize):\n",
        "        return \"Geçerli bir ikili sayı değil.\"\n",
        "\n",
        "    ondalik_deger = 0\n",
        "    us_degeri = 0\n",
        "\n",
        "    for bit in reversed(ikili_dize):\n",
        "        if bit == '1':\n",
        "            ondalik_deger += 2 ** us_degeri\n",
        "        us_degeri += 1\n",
        "\n",
        "    return ondalik_deger\n",
        "\n",
        "ikili_dize = \"101\"\n",
        "if is_binary(ikili_dize):\n",
        "    ondalik_deger = convert_to_decimal(ikili_dize)\n",
        "    print(f\"{ikili_dize} ikili sayısı {ondalik_deger} ondalık sayısına eşdeğerdir.\")\n",
        "else:\n",
        "    print(\"Geçerli bir ikili sayı değil.\")"
      ],
      "metadata": {
        "id": "KWmKO9bCz0l-"
      },
      "execution_count": null,
      "outputs": []
    }
  ]
}
