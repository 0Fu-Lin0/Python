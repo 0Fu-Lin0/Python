{
  "nbformat": 4,
  "nbformat_minor": 0,
  "metadata": {
    "colab": {
      "provenance": []
    },
    "kernelspec": {
      "name": "python3",
      "display_name": "Python 3"
    },
    "language_info": {
      "name": "python"
    }
  },
  "cells": [
    {
      "cell_type": "code",
      "execution_count": 1,
      "metadata": {
        "colab": {
          "base_uri": "https://localhost:8080/"
        },
        "id": "JEDmN2bXQ5uk",
        "outputId": "71c130e3-6d20-4f9a-94d6-fd9b5484df47"
      },
      "outputs": [
        {
          "output_type": "stream",
          "name": "stdout",
          "text": [
            "Bir sayi giriniz:5\n",
            "5 e tam bölünür.\n"
          ]
        }
      ],
      "source": [
        "x=int(input(\"Bir sayi giriniz:\"))\n",
        "if(x%5==0):\n",
        "    print(\"5 e tam bölünür.\")\n",
        "elif(x%7==0):\n",
        "    print(\"7 ye tam bölünür.\")\n",
        "else:\n",
        "    print(\"5 e ve 7 ye tam bölünmez.\")"
      ]
    },
    {
      "cell_type": "code",
      "source": [
        "x=int(input(\"1 ile 9 arasında bir sayi girin:\"))\n",
        "import random\n",
        "num=random.randint(1,10)\n",
        "print(num)\n",
        "if(x==num):\n",
        "    print(\"Helal olsun!Doğru Tahmin.\")\n",
        "else:\n",
        "    print(\"Ups..Yanlış tahmin.\")"
      ],
      "metadata": {
        "colab": {
          "base_uri": "https://localhost:8080/"
        },
        "id": "aC8by4eeRc7L",
        "outputId": "a104acfb-0b62-46f1-f5ba-7ae79bb6e945"
      },
      "execution_count": 2,
      "outputs": [
        {
          "output_type": "stream",
          "name": "stdout",
          "text": [
            "1 ile 9 arasında bir sayi girin:6\n",
            "9\n",
            "Ups..Yanlış tahmin.\n"
          ]
        }
      ]
    },
    {
      "cell_type": "code",
      "source": [
        "kelime=input(\"bir kelime girin: \")\n",
        "if len(kelime) < 2:\n",
        "    print(\"Kelime en az iki harf içermelidir.\")\n",
        "elif kelime[0] == kelime[-1]:\n",
        "    print(f\"{kelime} kelimesinin başı ve sonu aynı harfe sahiptir.\")\n",
        "else:\n",
        "    print(f\"{kelime} kelimesinin başı ve sonu farklı harflere sahiptir.\")"
      ],
      "metadata": {
        "id": "L2sdG5A7RwHq"
      },
      "execution_count": null,
      "outputs": []
    },
    {
      "cell_type": "code",
      "source": [
        "boy = float(input(\"Boyunuzu  giriniz: \")\n",
        "kilo = float(input(\"Kilonuzu  giriniz: \")\n",
        "\n",
        "bmi = kilo / (boy ** 2)\n",
        "\n",
        "if bmi >= 30:\n",
        "    sınıf = \"Obez sınıfına giriyorsunuz. Lütfen sağlığınıza dikkat ediniz.\"\n",
        "elif 25 <= bmi < 30:\n",
        "    sınıf = \"Aşırı kilolu sınıfına giriyorsunuz. Lütfen sağlığınıza dikkat ediniz.\"\n",
        "elif 20 <= bmi < 25:\n",
        "    sınıf = \"Normal sınıfına giriyorsunuz. Sağlığınız yerinde.\"\n",
        "else:\n",
        "    sınıf = \"Zayıf sınıfına giriyorsunuz. Lütfen sağlığınıza dikkat ediniz.\"\n",
        "\n",
        "print(f\"Beden Kitle İndeksiniz (BMI): {bmi:.2f}\")\n",
        "print(f\"Durumunuz: {sınıf}\")"
      ],
      "metadata": {
        "colab": {
          "base_uri": "https://localhost:8080/"
        },
        "id": "IWWimJUDR2S6",
        "outputId": "5296b4f1-a3d8-417d-b6ee-2f950b357ae3"
      },
      "execution_count": 3,
      "outputs": [
        {
          "output_type": "stream",
          "name": "stdout",
          "text": [
            "Lütfen boyunuzu (metre cinsinden) giriniz: 1.62\n",
            "Lütfen kilonuzu (kg cinsinden) giriniz: 65\n",
            "Beden Kitle İndeksiniz (BMI): 24.77\n",
            "Durumunuz: Normal sınıfına giriyorsunuz. Sağlığınız yerinde.\n"
          ]
        }
      ]
    }
  ]
}
