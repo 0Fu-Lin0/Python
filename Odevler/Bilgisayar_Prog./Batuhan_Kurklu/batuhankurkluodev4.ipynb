{
  "nbformat": 4,
  "nbformat_minor": 0,
  "metadata": {
    "colab": {
      "provenance": []
    },
    "kernelspec": {
      "name": "python3",
      "display_name": "Python 3"
    },
    "language_info": {
      "name": "python"
    }
  },
  "cells": [
    {
      "cell_type": "code",
      "execution_count": null,
      "metadata": {
        "id": "PXqbGHouOx93"
      },
      "outputs": [],
      "source": [
        "def yildiz_ucgen(yukseklik):\n",
        "    for i in range(1, yukseklik + 1):\n",
        "        bosluk_sayisi = yukseklik - i\n",
        "        yildiz_sayisi = 2 * i - 1\n",
        "        bosluklar = ' ' * bosluk_sayisi\n",
        "        yildizlar = '*' * yildiz_sayisi\n",
        "        print(bosluklar + yildizlar)\n",
        "\n",
        "yeni_yukseklik = 7\n",
        "yildiz_ucgen(yeni_yukseklik)"
      ]
    }
  ]
}
