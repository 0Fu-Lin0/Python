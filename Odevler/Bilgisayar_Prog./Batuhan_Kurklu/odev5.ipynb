{
 "cells": [
  {
   "cell_type": "code",
   "execution_count": 1,
   "id": "6c839e72",
   "metadata": {},
   "outputs": [
    {
     "name": "stdout",
     "output_type": "stream",
     "text": [
      "Pozitif bir tam sayı giriniz: 16\n",
      "16 sayısının rakamları toplamı: 7\n"
     ]
    }
   ],
   "source": [
    "def rakamlar_toplami(sayi):\n",
    "    toplam = 0\n",
    "    \n",
    "    while sayi > 0:\n",
    "        toplam += sayi % 10\n",
    "        \n",
    "        sayi //= 10  \n",
    "    return toplam\n",
    "\n",
    "girilen_sayi = int(input(\"Pozitif bir tam sayı giriniz: \"))\n",
    "\n",
    "sonuc = rakamlar_toplami(girilen_sayi)\n",
    "\n",
    "print(f\"{girilen_sayi} sayısının rakamları toplamı: {sonuc}\")\n"
   ]
  },
  {
   "cell_type": "code",
   "execution_count": 2,
   "id": "d8e1a182",
   "metadata": {},
   "outputs": [
    {
     "name": "stdout",
     "output_type": "stream",
     "text": [
      "Bir sayı giriniz: 16\n",
      "16 sayısının tersi: 61\n"
     ]
    }
   ],
   "source": [
    "def tersinecevir(sayi):\n",
    "    terssayi = str(sayi)[::-1]\n",
    "    return int(terssayi)\n",
    "\n",
    "girilensayi = int(input(\"Bir sayı giriniz: \"))\n",
    "\n",
    "terssayi = tersinecevir(girilensayi)\n",
    "\n",
    "print(f\"{girilensayi} sayısının tersi: {terssayi}\")\n"
   ]
  },
  {
   "cell_type": "code",
   "execution_count": 4,
   "id": "22637119",
   "metadata": {},
   "outputs": [
    {
     "name": "stdout",
     "output_type": "stream",
     "text": [
      "Bir ikili sayı giriniz: 35\n",
      "35 ikili sayısının ondalık karşılığı: Geçersiz ikili sayı!\n"
     ]
    }
   ],
   "source": [
    "def isbinary(binarystr):\n",
    "    return all(bit in '01' for bit in binarystr)\n",
    "\n",
    "def converttodecimal(binarystr):\n",
    "    if not isbinary(binarystr):\n",
    "        return \"Geçersiz ikili sayı!\"\n",
    "\n",
    "    decimalvalue = int(binarystr, 2)\n",
    "    \n",
    "    return decimalvalue\n",
    "\n",
    "binaryinput = input(\"Bir ikili sayı giriniz: \")\n",
    "\n",
    "result = converttodecimal(binaryinput)\n",
    "\n",
    "print(f\"{binaryinput} ikili sayısının ondalık karşılığı: {result}\")\n"
   ]
  }
 ],
 "metadata": {
  "kernelspec": {
   "display_name": "Python 3 (ipykernel)",
   "language": "python",
   "name": "python3"
  },
  "language_info": {
   "codemirror_mode": {
    "name": "ipython",
    "version": 3
   },
   "file_extension": ".py",
   "mimetype": "text/x-python",
   "name": "python",
   "nbconvert_exporter": "python",
   "pygments_lexer": "ipython3",
   "version": "3.11.5"
  }
 },
 "nbformat": 4,
 "nbformat_minor": 5
}
