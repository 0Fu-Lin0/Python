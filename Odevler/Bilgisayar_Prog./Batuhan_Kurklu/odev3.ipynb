{
 "cells": [
  {
   "cell_type": "code",
   "execution_count": 1,
   "id": "6edbf870",
   "metadata": {},
   "outputs": [
    {
     "name": "stdout",
     "output_type": "stream",
     "text": [
      "Orijinal yatırımınızı ikiye katlamak için gereken yıl sayısı: 5\n"
     ]
    }
   ],
   "source": [
    "anapara = 10000\n",
    "faizorani = 0.15\n",
    "hedefmiktar = 2 * anapara\n",
    "\n",
    "yil = 0\n",
    "\n",
    "while anapara < hedefmiktar:\n",
    "    anapara += anapara * faizorani\n",
    "    yil += 1\n",
    "\n",
    "print(f\"Orijinal yatırımınızı ikiye katlamak için gereken yıl sayısı: {yil}\")\n"
   ]
  },
  {
   "cell_type": "code",
   "execution_count": 3,
   "id": "f6fd2a40",
   "metadata": {},
   "outputs": [
    {
     "name": "stdout",
     "output_type": "stream",
     "text": [
      "İlk mikroorganizma sayısını girin: 12\n",
      "12 mikroorganizma, 1000000 mikroorganizmaya ulaşmak için 7 gün 2 saat sürer.\n"
     ]
    }
   ],
   "source": [
    "def hesapla(ilksayi, hedefsayi):\n",
    "    popsayisi = ilksayi\n",
    "    sure = 0\n",
    "    \n",
    "    while popsayisi < hedefsayi:\n",
    "        popsayisi *= 2\n",
    "        sure += 10\n",
    "    \n",
    "    gunler = sure // 24\n",
    "    kalansaatler = sure % 24\n",
    "    \n",
    "    return gunler, kalansaatler\n",
    "\n",
    "ilksayi = int(input(\"İlk mikroorganizma sayısını girin: \"))\n",
    "hedefsayi = 1000000\n",
    "\n",
    "gunler, kalansaatler = hesapla(ilksayi, hedefsayi)\n",
    "\n",
    "print(f\"{ilksayi} mikroorganizma, {hedefsayi} mikroorganizmaya ulaşmak için {gunler} gün {kalansaatler} saat sürer.\")\n"
   ]
  },
  {
   "cell_type": "code",
   "execution_count": 4,
   "id": "31115e8c",
   "metadata": {},
   "outputs": [
    {
     "name": "stdout",
     "output_type": "stream",
     "text": [
      "Pozitif bir tam sayı girin (Çıkış yapmak için negatif sayı girebilirsiniz.): 5\n",
      "Pozitif bir tam sayı girin (Çıkış yapmak için negatif sayı girebilirsiniz.): 6\n",
      "Pozitif bir tam sayı girin (Çıkış yapmak için negatif sayı girebilirsiniz.): 19\n",
      "Pozitif bir tam sayı girin (Çıkış yapmak için negatif sayı girebilirsiniz.): 21\n",
      "Pozitif bir tam sayı girin (Çıkış yapmak için negatif sayı girebilirsiniz.): -6\n",
      "Girilen sayıların ortalaması: 12.75\n"
     ]
    }
   ],
   "source": [
    "toplam = 0\n",
    "adet = 0\n",
    "\n",
    "for i in range(1, 1000000):\n",
    "    try:\n",
    "        sayi = int(input(\"Pozitif bir tam sayı girin (Çıkış yapmak için negatif sayı girebilirsiniz.): \"))\n",
    "        if sayi < 0:\n",
    "            break\n",
    "        toplam += sayi\n",
    "        adet += 1\n",
    "    except ValueError:\n",
    "        print(\"Geçersiz giriş. Lütfen pozitif bir tam sayı girin.\")\n",
    "\n",
    "if adet > 0:\n",
    "    ortalama = toplam / adet\n",
    "    print(f\"Girilen sayıların ortalaması: {ortalama:.2f}\")\n",
    "else:\n",
    "    print(\"Hiç pozitif tam sayı girilmedi.\")\n"
   ]
  },
  {
   "cell_type": "code",
   "execution_count": 6,
   "id": "dd34cf2c",
   "metadata": {},
   "outputs": [
    {
     "name": "stdout",
     "output_type": "stream",
     "text": [
      "Bir sayı tahmin edin (1 ile 10 arasında): 3\n",
      "Tebrikler! 1 tahminde doğru sayıyı buldunuz.\n"
     ]
    }
   ],
   "source": [
    "import random\n",
    "\n",
    "hedefsayi = random.randint(1, 10)\n",
    "\n",
    "tahminsayisi = 0\n",
    "\n",
    "while True:\n",
    "    tahmin = int(input(\"Bir sayı tahmin edin (1 ile 10 arasında): \"))\n",
    "    tahminsayisi += 1\n",
    "\n",
    "    if tahmin < 1 or tahmin > 10:\n",
    "        print(\"Geçersiz giriş. 1 ile 10 arasında bir sayı girin.\")\n",
    "    elif tahmin < hedefsayi:\n",
    "        print(\"Daha büyük bir sayı deneyin.\")\n",
    "    elif tahmin > hedefsayi:\n",
    "        print(\"Daha küçük bir sayı deneyin.\")\n",
    "    else:\n",
    "        print(f\"Tebrikler! {tahminsayisi} tahminde doğru sayıyı buldunuz.\")\n",
    "        break\n"
   ]
  }
 ],
 "metadata": {
  "kernelspec": {
   "display_name": "Python 3 (ipykernel)",
   "language": "python",
   "name": "python3"
  },
  "language_info": {
   "codemirror_mode": {
    "name": "ipython",
    "version": 3
   },
   "file_extension": ".py",
   "mimetype": "text/x-python",
   "name": "python",
   "nbconvert_exporter": "python",
   "pygments_lexer": "ipython3",
   "version": "3.11.5"
  }
 },
 "nbformat": 4,
 "nbformat_minor": 5
}
