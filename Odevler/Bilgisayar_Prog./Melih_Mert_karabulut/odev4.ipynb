{
  "nbformat": 4,
  "nbformat_minor": 0,
  "metadata": {
    "colab": {
      "provenance": []
    },
    "kernelspec": {
      "name": "python3",
      "display_name": "Python 3"
    },
    "language_info": {
      "name": "python"
    }
  },
  "cells": [
    {
      "cell_type": "markdown",
      "source": [
        "**CEVAP 1**"
      ],
      "metadata": {
        "id": "Haanp6UucoX_"
      }
    },
    {
      "cell_type": "code",
      "execution_count": null,
      "metadata": {
        "id": "4BpgSarMcjca"
      },
      "outputs": [],
      "source": [
        "def topla(sayi):\n",
        "    toplam = 0\n",
        "    while sayi > 0:\n",
        "        toplam += sayi % 10\n",
        "        sayi //= 10\n",
        "    return toplam\n",
        "\n",
        "try:\n",
        "    sayi = int(input(\"Sayı girin: \"))\n",
        "    if sayi <= 0:\n",
        "        print(\"Pozitif sayı gir: \")\n",
        "    else:\n",
        "        toplam = topla(sayi)\n",
        "        print(f\"{sayi} sayısının rakamlarının toplamı= {toplam}\")\n",
        "except ValueError:\n",
        "    print(\"Pozitif bir sayı dışında bir şey yazmayın.\")"
      ]
    },
    {
      "cell_type": "markdown",
      "source": [
        "**CEVAP 2**"
      ],
      "metadata": {
        "id": "HTh9p4SIcsEr"
      }
    },
    {
      "cell_type": "code",
      "source": [
        "def sayininTersiniAl(sayi):\n",
        "    sayiTers = 0\n",
        "    while sayi > 0:\n",
        "        birinciBasamagi = sayi % 10\n",
        "        sayiTers = sayiTers * 10 + birinciBasamagi\n",
        "        sayi //= 10\n",
        "    return sayiTers\n",
        "\n",
        "\n",
        "\n",
        "\n",
        "\n",
        "\n",
        "\n",
        "try:\n",
        "    sayi = int(input(\"İki basamaklı bir sayı girin= \"))\n",
        "    tersi = sayininTersiniAl(sayi)\n",
        "    print(f\"{sayi}'nin tersi= {tersi}\")\n",
        "except ValueError:\n",
        "    print(\"Yanlış girdiniz lütfen SAYI girin...\")\n"
      ],
      "metadata": {
        "id": "UYi2Vl7CcsUE"
      },
      "execution_count": null,
      "outputs": []
    },
    {
      "cell_type": "markdown",
      "source": [
        "**CEVAP 3**"
      ],
      "metadata": {
        "id": "15QTAv3NcsfZ"
      }
    },
    {
      "cell_type": "code",
      "source": [
        "def is_binary(dizge):\n",
        "    for rakam in dizge:\n",
        "        if rakam != '0' and rakam != '1':\n",
        "            return False\n",
        "    return True\n",
        "\n",
        "def convert_to_decimal(dizge):\n",
        "    if is_binary(dizge):\n",
        "        ondalikDeger = 0\n",
        "        uzunluk = len(dizge)\n",
        "        for i in range(uzunluk):\n",
        "            ondalikDeger += int(dizge[i]) * (2 ** (uzunluk - i - 1))\n",
        "        return ondalikDeger\n",
        "    else:\n",
        "        return None\n",
        "\n",
        "\n",
        "ikiliSayi = input(\"Bir ikili sayı dizgesi girin: \")\n",
        "\n",
        "\n",
        "\n",
        "\n",
        "\n",
        "\n",
        "\n",
        "\n",
        "\n",
        "ondalikDeger = convert_to_decimal(ikiliSayi)\n",
        "if ikiliSayi==\"\":\n",
        "    print(\"Boş bırakmayın. Lütfen ikili sayı giriniz.\")\n",
        "elif ondalikDeger is not None:\n",
        "    print(f\"{ikiliSayi} ikili sayısının ondalık eşdeğeri: {ondalikDeger}\")\n",
        "else:\n",
        "    print(\"Lütfen bir ikili sayı dizgesi girin...\")\n"
      ],
      "metadata": {
        "id": "9xE8ncsRctU2"
      },
      "execution_count": null,
      "outputs": []
    }
  ]
}
