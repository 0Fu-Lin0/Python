{
  "nbformat": 4,
  "nbformat_minor": 0,
  "metadata": {
    "colab": {
      "provenance": []
    },
    "kernelspec": {
      "name": "python3",
      "display_name": "Python 3"
    },
    "language_info": {
      "name": "python"
    }
  },
  "cells": [
    {
      "cell_type": "markdown",
      "source": [
        "**CEVAP 1**"
      ],
      "metadata": {
        "id": "3Thns0WzDxb1"
      }
    },
    {
      "cell_type": "code",
      "execution_count": null,
      "metadata": {
        "id": "OgY6eZl2DuK7"
      },
      "outputs": [],
      "source": [
        "anaPara=int(input(\"Paranızı giriniz: \"))\n",
        "faiz=0.15\n",
        "\n",
        "hedefPara=anaPara*2\n",
        "yil=0\n",
        "\n",
        "while anaPara<hedefPara:\n",
        "    anaPara+=anaPara*faiz\n",
        "    yil+=1\n",
        "\n",
        "print(f\"{yil} yıl sonra Ana paranın 2 katına ulaşmış oluyorsunuz.\")"
      ]
    },
    {
      "cell_type": "markdown",
      "source": [
        "**CEVAP 2**"
      ],
      "metadata": {
        "id": "0IEH8WuGD_86"
      }
    },
    {
      "cell_type": "code",
      "source": [
        "baslangic=int(input(\"Başlangkıç mikroorganizma sayısını gir:\"))\n",
        "hedef=1000000\n",
        "\n",
        "gun,saat=0,0\n",
        "\n",
        "while baslangic<hedef:\n",
        "    baslangic*=2\n",
        "    saat+=10\n",
        "    if saat>=24:\n",
        "        saat=0\n",
        "        gun+=1\n",
        "\n",
        "print(f\"{gun} gün {saat} saat sonra mikroorganiza sayısına ulaşıcaktır\")"
      ],
      "metadata": {
        "id": "02o0yP5kEB0q"
      },
      "execution_count": null,
      "outputs": []
    },
    {
      "cell_type": "markdown",
      "source": [
        "**CEVAP 3**"
      ],
      "metadata": {
        "id": "vPhfHe8DEDui"
      }
    },
    {
      "cell_type": "code",
      "source": [
        "toplam,sayac=0,0\n",
        "\n",
        "while True:\n",
        "    sayi=int(input(\"Bir sayı giriniz: \"))\n",
        "    if sayi>=0:\n",
        "        toplam+=sayi\n",
        "        sayac+=1\n",
        "    elif sayac==0:\n",
        "        print(\"Hiç sayı girmedniz\\n\")\n",
        "    else:\n",
        "        sonuc=toplam/sayac\n",
        "        print(f\"\\nSayıların toplamı {toplam} \\nSayıların ortalaması {sonuc}\")\n",
        "        break"
      ],
      "metadata": {
        "id": "8R2ovEOhEFRr"
      },
      "execution_count": null,
      "outputs": []
    },
    {
      "cell_type": "markdown",
      "source": [
        "**CEVAP 4**"
      ],
      "metadata": {
        "id": "Y3PHCw87EH9s"
      }
    },
    {
      "cell_type": "code",
      "source": [
        "import random\n",
        "\n",
        "tahminSayi=random.randint(1,10)\n",
        "tahminler=[]\n",
        "\n",
        "while True:\n",
        "\n",
        "    try:\n",
        "        tahmin=int(input(\"Sayıyı tahmin ediniz: \"))\n",
        "    except ValueError:\n",
        "        print(\"geçerli bir sayı griniz:\")\n",
        "        continue\n",
        "\n",
        "    tahminler.append(tahmin)\n",
        "    if tahmin<tahminSayi:\n",
        "        print(\"Daha yüksek tahmin edin\")\n",
        "    elif tahmin>tahminSayi:\n",
        "        print(\"daha düşük bir sayı tahmin edin\")\n",
        "    else:\n",
        "        print(f\"Tebrikler hedeflenen sayıyı bildiniz. {tahminSayi}\")\n",
        "        print(f\"Tahminleriniz: {tahminler}\")\n",
        "        break"
      ],
      "metadata": {
        "id": "DAIyKQ_2ELat"
      },
      "execution_count": null,
      "outputs": []
    },
    {
      "cell_type": "markdown",
      "source": [
        "**Yıldız Çizme Cevabı**"
      ],
      "metadata": {
        "id": "igLe8cNWEOoS"
      }
    },
    {
      "cell_type": "code",
      "source": [
        "uzunluk=int(input(\"Üçgenin yükseklik değerini giriniz: \"))\n",
        "\n",
        "for i in range(1,uzunluk+1):\n",
        "    boslukSayisi= uzunluk-i\n",
        "    yildiz=2*i-1\n",
        "    bosluk=\" \"*boslukSayisi\n",
        "    yildizlar=\"*\"*yildiz\n",
        "    satir=bosluk+yildizlar\n",
        "    print(satir)"
      ],
      "metadata": {
        "id": "3jSTZ67DEQmQ"
      },
      "execution_count": null,
      "outputs": []
    }
  ]
}
