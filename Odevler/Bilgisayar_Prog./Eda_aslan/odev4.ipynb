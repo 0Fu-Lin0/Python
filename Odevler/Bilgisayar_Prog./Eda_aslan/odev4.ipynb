{
  "nbformat": 4,
  "nbformat_minor": 0,
  "metadata": {
    "colab": {
      "provenance": []
    },
    "kernelspec": {
      "name": "python3",
      "display_name": "Python 3"
    },
    "language_info": {
      "name": "python"
    }
  },
  "cells": [
    {
      "cell_type": "code",
      "execution_count": 1,
      "metadata": {
        "colab": {
          "base_uri": "https://localhost:8080/"
        },
        "id": "RZrXlz4DPxV3",
        "outputId": "43b434a6-55f3-4086-c066-bb3398963716"
      },
      "outputs": [
        {
          "output_type": "stream",
          "name": "stdout",
          "text": [
            "Bir sayı girin: 845\n",
            "Rakamların toplamı: 17\n"
          ]
        }
      ],
      "source": [
        "def top(sayı):\n",
        "    return sum(int(deger) for deger in str(sayı))\n",
        "girilen= int(input(\"Bir sayı girin: \"))\n",
        "sonuc = top(girilen)\n",
        "print(\"Rakamların toplamı:\", sonuc)"
      ]
    },
    {
      "cell_type": "code",
      "source": [
        "def ters(sayı):\n",
        "    tersi= int(str(sayı)[::-1])\n",
        "    print(tersi)\n",
        "ters(75319)"
      ],
      "metadata": {
        "colab": {
          "base_uri": "https://localhost:8080/"
        },
        "id": "qCbpKHqkP4TR",
        "outputId": "3654b8dc-0966-4a3e-f3be-a3cc759dc6e0"
      },
      "execution_count": 2,
      "outputs": [
        {
          "output_type": "stream",
          "name": "stdout",
          "text": [
            "91357\n"
          ]
        }
      ]
    },
    {
      "cell_type": "code",
      "source": [
        "def is_binary(string):\n",
        "    for char in string:\n",
        "        if char not in ['0', '1']:\n",
        "            return False\n",
        "    return True\n",
        "\n",
        "def convert_to_decimal(binary):\n",
        "    if is_binary(binary):\n",
        "        return int(binary, 2)\n",
        "    else:\n",
        "        raise ValueError(\"Girilen değer bir ikili sayı değil.\")\n",
        "\n",
        "print(convert_to_decimal(\"1010010\"))\n"
      ],
      "metadata": {
        "colab": {
          "base_uri": "https://localhost:8080/"
        },
        "id": "Bpxz4SiMP-Ch",
        "outputId": "a722fe86-b8f2-4999-ff84-e290cfb32106"
      },
      "execution_count": 3,
      "outputs": [
        {
          "output_type": "stream",
          "name": "stdout",
          "text": [
            "82\n"
          ]
        }
      ]
    }
  ]
}
