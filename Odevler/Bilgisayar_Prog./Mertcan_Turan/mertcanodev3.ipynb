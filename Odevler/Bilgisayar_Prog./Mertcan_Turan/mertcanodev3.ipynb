{
  "nbformat": 4,
  "nbformat_minor": 0,
  "metadata": {
    "colab": {
      "provenance": []
    },
    "kernelspec": {
      "name": "python3",
      "display_name": "Python 3"
    },
    "language_info": {
      "name": "python"
    }
  },
  "cells": [
    {
      "cell_type": "code",
      "execution_count": 27,
      "metadata": {
        "colab": {
          "base_uri": "https://localhost:8080/"
        },
        "id": "vazk0hQ-TZ7e",
        "outputId": "669466bb-f99e-4263-cbae-837f8be24e83"
      },
      "outputs": [
        {
          "output_type": "stream",
          "name": "stdout",
          "text": [
            "         *\n",
            "        ***\n",
            "       *****\n",
            "      *******\n",
            "     *********\n",
            "    ***********\n",
            "   *************\n",
            "  ***************\n",
            " *****************\n",
            "*******************\n",
            "Yatırımınızı ikiye katlamanız için 5 yıl gerekir\n",
            "Başlangıçtaki mikroorganizma sayısını girin: 50\n",
            "Organizma sayısının 1000000'i gecmesi icin gereken süre: 6 gün 6 saattir\n",
            "Bir tamsayı girin: 1\n",
            "Bir tamsayı girin: 10\n",
            "Bir tamsayı girin: -2\n",
            "Girilen sayıların ortalaması: 5.5\n",
            "1 ile 10 arasında bir sayı tahmin edin: 9\n",
            "Tebrikler! 9 sayısını 1 tahminde buldunuz.\n"
          ]
        }
      ],
      "source": [
        "#1. alıstırma\n",
        "rows = 10\n",
        "for i in range(rows):\n",
        "    for j in range(rows - i - 1):\n",
        "        print(\" \", end=\"\")\n",
        "    for k in range(2 * i + 1):\n",
        "        print(\"*\", end=\"\")\n",
        "    print()\n",
        "#2. alıstırma\n",
        "anapara = 10000\n",
        "faiz = 0.15\n",
        "yil = 0\n",
        "\n",
        "while True:\n",
        "    anapara += anapara * faiz\n",
        "    yil += 1\n",
        "    if anapara >= 20000:\n",
        "        break\n",
        "\n",
        "print(f\"Yatırımınızı ikiye katlamanız için {yil} yıl gerekir\")\n",
        "#3. alıstırma\n",
        "mikroorganizma = int(input(\"Başlangıçtaki mikroorganizma sayısını girin: \"))\n",
        "saat = 0\n",
        "\n",
        "while mikroorganizma <= 1000000:\n",
        "    mikroorganizma *= 2\n",
        "    saat += 10\n",
        "\n",
        "gun = saat // 24\n",
        "saat %= 24\n",
        "\n",
        "print(f\"Organizma sayısının 1000000'i gecmesi icin gereken süre: {gun} gün {saat} saattir\")\n",
        "#4. alıstırma\n",
        "\n",
        "toplam = 0\n",
        "sayac = 0\n",
        "\n",
        "while True:\n",
        "    sayi = int(input(\"Bir tamsayı girin: \"))\n",
        "    if sayi < 0:\n",
        "        break\n",
        "    toplam += sayi\n",
        "    sayac += 1\n",
        "\n",
        "if sayac > 0:\n",
        "    ortalama = toplam / sayac\n",
        "    print(f\"Girilen sayıların ortalaması: {ortalama}\")\n",
        "else:\n",
        "    print(f\"Bir deger girmediniz\")\n",
        "#5. alıstırma\n",
        "import random\n",
        "\n",
        "random_number = random.randint(1, 10)\n",
        "tahmin_sayac = 0\n",
        "\n",
        "while True:\n",
        "    tahmin = int(input(\"1 ile 10 arasında bir sayı tahmin edin: \"))\n",
        "    tahmin_sayac += 1\n",
        "\n",
        "    if tahmin < 1 or tahmin > 10:\n",
        "        print(\"1 ile 10 arasında bir sayı tahmini girin.\")\n",
        "    elif tahmin < random_number:\n",
        "        print(\"Daha yüksek bir sayı girin.\")\n",
        "    elif tahmin > random_number:\n",
        "        print(\"Daha düşük bir sayı girin.\")\n",
        "    else:\n",
        "        print(f\"Tebrikler! {random_number} sayısını {tahmin_sayac} tahminde buldunuz.\")\n",
        "        break\n",
        "\n",
        "\n",
        "\n",
        "\n",
        "\n",
        "\n"
      ]
    },
    {
      "cell_type": "code",
      "source": [],
      "metadata": {
        "id": "n0MT05pYThwb"
      },
      "execution_count": null,
      "outputs": []
    }
  ]
}