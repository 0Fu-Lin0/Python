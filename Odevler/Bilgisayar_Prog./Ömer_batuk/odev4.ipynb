{
  "nbformat": 4,
  "nbformat_minor": 0,
  "metadata": {
    "colab": {
      "provenance": []
    },
    "kernelspec": {
      "name": "python3",
      "display_name": "Python 3"
    },
    "language_info": {
      "name": "python"
    }
  },
  "cells": [
    {
      "cell_type": "code",
      "execution_count": null,
      "metadata": {
        "id": "EeVoWcoHKlPK"
      },
      "outputs": [],
      "source": [
        "\n",
        "# 1\n",
        "\n",
        "def basamakToplami(sayi):\n",
        "  toplam = 0\n",
        "\n",
        "  while sayi > 0:\n",
        "    rakam = sayi % 10\n",
        "    toplam = toplam + rakam\n",
        "    sayi = sayi // 10\n",
        "  return toplam\n",
        "\n",
        "sayi = int(input(\"Pozitif bir tam sayı giriniz: \"))\n",
        "\n",
        "sonuc = basamakToplami(sayi)\n",
        "\n",
        "print(f\"{sayi} sayısının rakamları toplamı: {sonuc}\")\n",
        "\n",
        "\n"
      ]
    },
    {
      "cell_type": "code",
      "source": [
        "\n",
        "# 2\n",
        "\n",
        "def tersCevir(sayi):\n",
        "  ters_sayi = str(sayi)[::-1]\n",
        "  return int(ters_sayi)\n",
        "\n",
        "sayi = int(input(\"Bir sayı giriniz: \"))\n",
        "ters_sayi = tersCevir(sayi)\n",
        "\n",
        "print(f\"Sayının tersi {ters_sayi}\")"
      ],
      "metadata": {
        "id": "2vXm93OfMMRU"
      },
      "execution_count": null,
      "outputs": []
    },
    {
      "cell_type": "code",
      "source": [
        "\n",
        "# 3\n",
        "\n",
        "def is_binary(sayi):\n",
        "    return all(bit == '0' or bit == '1' for bit in sayi)\n",
        "\n",
        "def convert_to_decimal(str):\n",
        "    if is_binary(str):\n",
        "        decimal = int(str,2)\n",
        "        return decimal\n",
        "    else:\n",
        "        return \"Geçersiz\"\n",
        "\n",
        "binary = input(\"Lütfen ikili sayı girin: \")\n",
        "result = convert_to_decimal(binary)\n",
        "\n",
        "print(f\"Sonuç: {result}\")"
      ],
      "metadata": {
        "id": "v3_lvnWI_NYo"
      },
      "execution_count": null,
      "outputs": []
    }
  ]
}
