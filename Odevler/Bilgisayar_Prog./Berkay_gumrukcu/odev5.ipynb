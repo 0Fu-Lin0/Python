{
  "nbformat": 4,
  "nbformat_minor": 0,
  "metadata": {
    "colab": {
      "provenance": []
    },
    "kernelspec": {
      "name": "python3",
      "display_name": "Python 3"
    },
    "language_info": {
      "name": "python"
    }
  },
  "cells": [
    {
      "cell_type": "code",
      "execution_count": 7,
      "metadata": {
        "colab": {
          "base_uri": "https://localhost:8080/"
        },
        "id": "5q4IhY3HBZ08",
        "outputId": "b5f463d3-c9ff-4caa-c049-1abb24b6ca6d"
      },
      "outputs": [
        {
          "output_type": "stream",
          "name": "stdout",
          "text": [
            "Hangi şehirdeki otelleri aramak istersin? Bursa\n",
            "Bursa şehrindeki oteller 'oteller.txt' dosyasından ulaşabilirsiniz.\n"
          ]
        }
      ],
      "source": [
        "\n",
        "def otel_kopyala(sehir, kaynak_dosya, hedef_dosya):\n",
        "    try:\n",
        "        with open(kaynak_dosya, 'r') as kaynak, open(hedef_dosya, 'w') as hedef:\n",
        "            for satir in kaynak:\n",
        "                if sehir.lower() in satir.lower():\n",
        "                    hedef.write(satir)\n",
        "        print(f\"{sehir} şehrindeki oteller '{hedef_dosya}' dosyasından ulaşabilirsiniz.\")\n",
        "    except FileNotFoundError:\n",
        "        print(f\"{kaynak_dosya} dosyası bulunamadı.\")\n",
        "\n",
        "def goster():\n",
        "    kaynak_dosya = \"otel_verileri.txt\"\n",
        "    hedef_dosya = \"oteller.txt\"\n",
        "\n",
        "    sehir = input(\"Hangi şehirdeki otelleri aramak istersin? \")\n",
        "\n",
        "    otel_kopyala(sehir, kaynak_dosya, hedef_dosya)\n",
        "\n",
        "goster()"
      ]
    },
    {
      "cell_type": "code",
      "source": [
        "def birlestir_sirala_yaz(dosya1, dosya2, cikti):\n",
        "    with open(dosya1, 'r') as f1, open(dosya2, 'r') as f2:\n",
        "        cicekler = sorted(set(f1.read().splitlines() + f2.read().splitlines()))\n",
        "\n",
        "    with open(cikti, 'w') as cikti:\n",
        "        cikti.write('\\n'.join(cicekler))\n",
        "\n",
        "birlestir_sirala_yaz('cicekler.txt', 'cicekler2.txt', 'birlesik_cicekler.txt')\n"
      ],
      "metadata": {
        "id": "3Z88N0O5In2k"
      },
      "execution_count": 12,
      "outputs": []
    },
    {
      "cell_type": "code",
      "source": [
        "def nufus_yogunlugu_hesapla(nufus, alan, cikti):\n",
        "    with open(nufus) as nufus, open(alan) as alan, open(cikti, 'w') as cikti:\n",
        "        cikti.write('\\n'.join(f\"{int(n)/float(a):.2f}\" for n, a in zip(nufus, alan) if float(a) != 0))\n",
        "\n",
        "nufus = '05_worldpop.txt'\n",
        "alan = '05_worldarea.txt'\n",
        "cikti = 'world_pop_density.txt'\n",
        "\n",
        "nufus_yogunlugu_hesapla(nufus, alan, cikti)\n"
      ],
      "metadata": {
        "id": "vriVDztaMBUt"
      },
      "execution_count": 21,
      "outputs": []
    }
  ]
}
