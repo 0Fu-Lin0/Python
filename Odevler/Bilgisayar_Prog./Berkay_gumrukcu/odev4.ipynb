{
  "nbformat": 4,
  "nbformat_minor": 0,
  "metadata": {
    "colab": {
      "provenance": []
    },
    "kernelspec": {
      "name": "python3",
      "display_name": "Python 3"
    },
    "language_info": {
      "name": "python"
    }
  },
  "cells": [
    {
      "cell_type": "code",
      "execution_count": 23,
      "metadata": {
        "colab": {
          "base_uri": "https://localhost:8080/"
        },
        "id": "PnLg9vF0sScQ",
        "outputId": "68c27d25-cbac-4070-f5e8-ffecddf455d7"
      },
      "outputs": [
        {
          "output_type": "stream",
          "name": "stdout",
          "text": [
            "Pozitif bir sayı giriniz: 182\n",
            "182 sayısının rakamları toplamı: 11\n"
          ]
        }
      ],
      "source": [
        "def SayilarinToplami(sayi):\n",
        "    if sayi > 0:\n",
        "      sayidizi = [int(dizi) for dizi in str(sayi)]\n",
        "      toplam = sum(sayidizi)\n",
        "      print(f\"{sayi} sayısının rakamları toplamı: {toplam}\")\n",
        "    else:\n",
        "      print(\"Doğru gir la.\")\n",
        "\n",
        "sayi = int(input(\"Pozitif bir sayı giriniz: \"))\n",
        "sonuc = SayilarinToplami(sayi)"
      ]
    },
    {
      "cell_type": "code",
      "source": [
        "def tersi(sayi):\n",
        "    terssayi = str(sayi)[::-1]\n",
        "    if str(sayi) == terssayi:\n",
        "      print(\"Sayı tersiyle eşittir.\")\n",
        "    else:\n",
        "      print(f\"{sayi} sayısının tersi: {terssayi}\")\n",
        "      return int(terssayi)\n",
        "\n",
        "sayi = int(input(\"Bir sayı giriniz: \"))\n",
        "sonuc = tersi(sayi)"
      ],
      "metadata": {
        "colab": {
          "base_uri": "https://localhost:8080/"
        },
        "id": "okKse4bBwHdO",
        "outputId": "d3bb9260-c5c0-4815-ffaa-d8990edfb4d8"
      },
      "execution_count": 37,
      "outputs": [
        {
          "output_type": "stream",
          "name": "stdout",
          "text": [
            "Bir sayı giriniz: 32\n",
            "32 sayısının tersi: 23\n"
          ]
        }
      ]
    },
    {
      "cell_type": "code",
      "source": [
        "def is_binary(dizge):\n",
        "    return all(bit in '01' for bit in dizge)\n",
        "\n",
        "def convert_to_decimal(binary_str):\n",
        "    if is_binary(binary_str):\n",
        "        decimal_deger = int(binary_str, 2)\n",
        "        return decimal_deger\n",
        "    else:\n",
        "        raise ValueError(\"Geçersiz ikili sayı: {}\".format(binary_str))\n",
        "\n",
        "\n",
        "girdi = input(\"İkili bir sayı giriniz: \")\n",
        "\n",
        "try:\n",
        "    decimal_cikti = convert_to_decimal(girdi)\n",
        "    print(\"{} sayısının ondalık eşdeğeri: {}\".format(girdi, decimal_cikti))\n",
        "except ValueError as hata:\n",
        "    print(\"Hata: {}\".format(hata))"
      ],
      "metadata": {
        "colab": {
          "base_uri": "https://localhost:8080/"
        },
        "id": "UF4028BtxYc3",
        "outputId": "326943d1-1d78-4c48-c158-8f40a5597df7"
      },
      "execution_count": 42,
      "outputs": [
        {
          "output_type": "stream",
          "name": "stdout",
          "text": [
            "İkili bir sayı giriniz: 13123132\n",
            "Hata: Geçersiz ikili sayı: 13123132\n"
          ]
        }
      ]
    }
  ]
}
