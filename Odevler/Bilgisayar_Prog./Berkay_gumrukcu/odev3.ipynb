{
  "cells": [
    {
      "cell_type": "code",
      "execution_count": 5,
      "id": "41b6044f",
      "metadata": {
        "colab": {
          "base_uri": "https://localhost:8080/"
        },
        "id": "41b6044f",
        "outputId": "0fe7b984-1808-45b1-e5bd-5f3a2e87dc74"
      },
      "outputs": [
        {
          "output_type": "stream",
          "name": "stdout",
          "text": [
            "Bankadaki parayı ikiye katlamak için gereken yıl : 5\n"
          ]
        }
      ],
      "source": [
        "para=30000;\n",
        "\n",
        "faiz=15\n",
        "\n",
        "yil=0\n",
        "\n",
        "while para <60000:\n",
        "    para += para *(faiz/100)\n",
        "    yil += 1\n",
        "\n",
        "print(f\"Parayı ikiye katlamak için gereken yıl : {yil}\")"
      ]
    },
    {
      "cell_type": "code",
      "execution_count": 7,
      "id": "57a4cccc",
      "metadata": {
        "colab": {
          "base_uri": "https://localhost:8080/"
        },
        "id": "57a4cccc",
        "outputId": "88779936-0824-4109-b303-0efaf0002f51"
      },
      "outputs": [
        {
          "output_type": "stream",
          "name": "stdout",
          "text": [
            "Başlangıçtaki mikroorganizma sayısını girin: 1100\n",
            "4 gün, 4 saat sonra mikroorganizma sayısı 1000000'i geçer.\n"
          ]
        }
      ],
      "source": [
        "baslangic = int(input(\"Başlangıçtaki mikroorganizma sayısını girin: \"))\n",
        "maks = 1000000\n",
        "\n",
        "gun = 0\n",
        "saat = 0\n",
        "while baslangic < maks:\n",
        "    baslangic *= 2\n",
        "    saat += 10\n",
        "    if saat >= 24:\n",
        "        saat -= 24\n",
        "        gun += 1\n",
        "\n",
        "print(f\"{gun} gün, {saat} saat sonra mikroorganizma sayısı {maks}'i geçer.\")\n"
      ]
    },
    {
      "cell_type": "code",
      "execution_count": 8,
      "id": "f6b71c8e",
      "metadata": {
        "colab": {
          "base_uri": "https://localhost:8080/"
        },
        "id": "f6b71c8e",
        "outputId": "b264c5d0-0b7f-4284-f9e0-e4fefed6d7c8"
      },
      "outputs": [
        {
          "output_type": "stream",
          "name": "stdout",
          "text": [
            "Pozitif bir tamsayı girin (Negatif girerseniz, pozitif sayı girme turunuz sona erecektir): 5\n",
            "Pozitif bir tamsayı girin (Negatif girerseniz, pozitif sayı girme turunuz sona erecektir): 6\n",
            "Pozitif bir tamsayı girin (Negatif girerseniz, pozitif sayı girme turunuz sona erecektir): 8\n",
            "Pozitif bir tamsayı girin (Negatif girerseniz, pozitif sayı girme turunuz sona erecektir): 94\n",
            "Pozitif bir tamsayı girin (Negatif girerseniz, pozitif sayı girme turunuz sona erecektir): 25\n",
            "Pozitif bir tamsayı girin (Negatif girerseniz, pozitif sayı girme turunuz sona erecektir): -10\n",
            "Girdiğiniz sayıların ortalaması: 27.6\n"
          ]
        }
      ],
      "source": [
        "toplam = 0\n",
        "kacsayi = 0\n",
        "\n",
        "while True:\n",
        "    sayi = int(input(\"Pozitif bir tamsayı girin (Negatif girerseniz, pozitif sayı girme turunuz sona erecektir): \"))\n",
        "    if sayi < 0:\n",
        "        break\n",
        "    toplam += sayi\n",
        "    kacsayi += 1\n",
        "\n",
        "if kacsayi > 0:\n",
        "    ortalama = toplam / kacsayi\n",
        "    print(f\"Girdiğiniz sayıların ortalaması: {ortalama}\")\n",
        "else:\n",
        "    print(\"Girilen pozitif tam sayı yok.\")\n"
      ]
    },
    {
      "cell_type": "code",
      "execution_count": 13,
      "id": "86b5eb3a",
      "metadata": {
        "colab": {
          "base_uri": "https://localhost:8080/"
        },
        "id": "86b5eb3a",
        "outputId": "3e97ce04-ca9f-4bf0-f65a-1c1f56f6c8d1"
      },
      "outputs": [
        {
          "output_type": "stream",
          "name": "stdout",
          "text": [
            "1 ile 20 arasında bir sayı tahmin edin: 1\n",
            "Tahminden Büyük\n",
            "1 ile 20 arasında bir sayı tahmin edin: 5\n",
            "Tahminden Büyük\n",
            "1 ile 20 arasında bir sayı tahmin edin: 15\n",
            "Tahminden Küçük\n",
            "1 ile 20 arasında bir sayı tahmin edin: 12\n",
            "Tahminden Küçük\n",
            "1 ile 20 arasında bir sayı tahmin edin: 10\n",
            "Tahminden Küçük\n",
            "1 ile 20 arasında bir sayı tahmin edin: 8\n",
            "Tahminden Küçük\n",
            "1 ile 20 arasında bir sayı tahmin edin: 9\n",
            "Tahminden Küçük\n",
            "1 ile 20 arasında bir sayı tahmin edin: 7\n",
            "7 sayısını 8 denemede bildiniz.\n"
          ]
        }
      ],
      "source": [
        "import random\n",
        "\n",
        "random_sayi = random.randint(1, 20)\n",
        "kac_tahmin = 0\n",
        "\n",
        "while True:\n",
        "    tahmin = int(input(\"1 ile 20 arasında bir sayı tahmin edin: \"))\n",
        "    kac_tahmin += 1\n",
        "\n",
        "    if tahmin == random_sayi:\n",
        "        print(f\"{random_sayi} sayısını {kac_tahmin} denemede bildiniz.\")\n",
        "        break\n",
        "    elif tahmin < random_sayi:\n",
        "        print(\"Tahminden Büyük\")\n",
        "    else:\n",
        "        print(\"Tahminden Küçük\")"
      ]
    },
    {
      "cell_type": "code",
      "source": [
        "yukseklik = int(input(\"Yıldızlardan Oluşan Üçgenin yüksekliğini belirleyin: \"))\n",
        "\n",
        "for i in range(yukseklik):\n",
        "    print(\" \" * (yukseklik-i-1) + \"*\" * (2*i+1))"
      ],
      "metadata": {
        "colab": {
          "base_uri": "https://localhost:8080/"
        },
        "id": "Q5gdtWNJukyT",
        "outputId": "394759b1-f847-4eb6-9439-cfb631bf3236"
      },
      "id": "Q5gdtWNJukyT",
      "execution_count": 16,
      "outputs": [
        {
          "output_type": "stream",
          "name": "stdout",
          "text": [
            "Yıldızlardan Oluşan Üçgenin yüksekliğini belirleyin: 7\n",
            "      *\n",
            "     ***\n",
            "    *****\n",
            "   *******\n",
            "  *********\n",
            " ***********\n",
            "*************\n"
          ]
        }
      ]
    }
  ],
  "metadata": {
    "kernelspec": {
      "display_name": "Python 3 (ipykernel)",
      "language": "python",
      "name": "python3"
    },
    "language_info": {
      "codemirror_mode": {
        "name": "ipython",
        "version": 3
      },
      "file_extension": ".py",
      "mimetype": "text/x-python",
      "name": "python",
      "nbconvert_exporter": "python",
      "pygments_lexer": "ipython3",
      "version": "3.11.5"
    },
    "colab": {
      "provenance": []
    }
  },
  "nbformat": 4,
  "nbformat_minor": 5
}
