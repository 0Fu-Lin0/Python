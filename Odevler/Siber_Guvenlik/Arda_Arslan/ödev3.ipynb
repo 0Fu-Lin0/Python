{
  "nbformat": 4,
  "nbformat_minor": 0,
  "metadata": {
    "colab": {
      "provenance": []
    },
    "kernelspec": {
      "name": "python3",
      "display_name": "Python 3"
    },
    "language_info": {
      "name": "python"
    }
  },
  "cells": [
    {
      "cell_type": "code",
      "execution_count": null,
      "metadata": {
        "colab": {
          "base_uri": "https://localhost:8080/"
        },
        "id": "euc27DK7wlL8",
        "outputId": "7d737c54-eda6-4e7c-cb03-11641bed7147"
      },
      "outputs": [
        {
          "output_type": "stream",
          "name": "stdout",
          "text": [
            "Toplam Para: 20500 , Ana Para: 10000 , Faizden Kazanilan Para: 10500\n",
            "Ana parayı ikiye katlamak için gereken yıl sayısı 7'dir.\n"
          ]
        }
      ],
      "source": [
        "ana_para = 10000\n",
        "faiz_para = 0\n",
        "i=0\n",
        "\n",
        "while(1):\n",
        "\n",
        "  if(faiz_para < 10000):\n",
        "\n",
        "    faiz_para = faiz_para + (ana_para * 15) / 100\n",
        "    i = 1 + i\n",
        "  if(faiz_para > 10000):\n",
        "    print(\"Toplam Para:\",int((ana_para+faiz_para)),\", Ana Para:\",ana_para,\", Faizden Kazanilan Para:\",int(faiz_para))\n",
        "    print(f\"Ana parayı ikiye katlamak için gereken yıl sayısı {i}'dir.\")\n",
        "    break"
      ]
    },
    {
      "cell_type": "code",
      "source": [
        "populasyon_baslangic = int(input(\"Populasyonun Baslangic Sayisini Giriniz: \"))\n",
        "\n",
        "saat=0\n",
        "\n",
        "while(populasyon_baslangic <= 1000000):\n",
        "\n",
        "    populasyon_baslangic = populasyon_baslangic * 2\n",
        "    saat = saat + 10\n",
        "\n",
        "gun_sayisi = int(saat / 24)\n",
        "saat = saat - (gun_sayisi * 24)\n",
        "\n",
        "print(f\"Mikroorganizma populasyonu {gun_sayisi} gun {saat} saatte 1000000 populasyon sayisini gecmektedir!.\")\n",
        "print(f\"Toplam Populasyon Sayisi: {populasyon_baslangic}\")"
      ],
      "metadata": {
        "colab": {
          "base_uri": "https://localhost:8080/"
        },
        "id": "og0ok3cFwsD5",
        "outputId": "cc4b5e75-8b3b-4b0d-d3c0-fcfeaeebabd0"
      },
      "execution_count": null,
      "outputs": [
        {
          "output_type": "stream",
          "name": "stdout",
          "text": [
            "Populasyonun Baslangic Sayisini Giriniz: 30\n",
            "Mikroorganizma populasyonu 6 gun 16 saatte 1000000 populasyon sayisini gecmektedir!.\n",
            "Toplam Populasyon Sayisi: 1966080\n"
          ]
        }
      ]
    },
    {
      "cell_type": "code",
      "source": [
        "temp=0\n",
        "sayac=0\n",
        "\n",
        "while(1):\n",
        "    sayi = int(input(\"Bir Sayi Giriniz: \"))\n",
        "\n",
        "    if(sayi>0):\n",
        "        temp = sayi + temp\n",
        "        sayac = sayac + 1\n",
        "\n",
        "    if(sayi<0):\n",
        "        break\n",
        "\n",
        "    elif(sayi==0):\n",
        "        print(\"'0' degerini girmeyiniz!.\")\n",
        "\n",
        "ortalama_deger = temp // sayac\n",
        "\n",
        "print(f\"Girilen Pozitif Sayilarin Ortalamasi: {ortalama_deger}\")"
      ],
      "metadata": {
        "colab": {
          "base_uri": "https://localhost:8080/"
        },
        "id": "MVI3k_8YwvgM",
        "outputId": "2889804d-746d-4a2b-a60a-3cc197268aba"
      },
      "execution_count": null,
      "outputs": [
        {
          "output_type": "stream",
          "name": "stdout",
          "text": [
            "Bir Sayi Giriniz: 1\n",
            "Bir Sayi Giriniz: 3\n",
            "Bir Sayi Giriniz: 7\n",
            "Bir Sayi Giriniz: 8\n",
            "Bir Sayi Giriniz: 0\n",
            "'0' degerini girmeyiniz!.\n",
            "Bir Sayi Giriniz: -1\n",
            "Girilen Pozitif Sayilarin Ortalamasi: 4\n"
          ]
        }
      ]
    },
    {
      "cell_type": "code",
      "source": [
        "import random\n",
        "random_sayi = random.randint(1,9)\n",
        "\n",
        "tahmin_sayi = int(input(\"Lutfen Bir Sayi Giriniz: \"))\n",
        "print(f\"Girdiginiz sayi {tahmin_sayi}, tutulan sayi {random_sayi}.\")\n",
        "if(tahmin_sayi==random_sayi):\n",
        "    print(\"Tahmininiz Basarili!...\")\n",
        "\n",
        "else:\n",
        "    print(\"Tahmininiz Yanlis Tekrar Deneyiniz!...\")\n"
      ],
      "metadata": {
        "colab": {
          "base_uri": "https://localhost:8080/"
        },
        "id": "MMKwh60NwyFV",
        "outputId": "7dfe8f88-8403-4e41-a0f9-355d084f9549"
      },
      "execution_count": null,
      "outputs": [
        {
          "output_type": "stream",
          "name": "stdout",
          "text": [
            "Lutfen Bir Sayi Giriniz: 3\n",
            "Girdiginiz sayi 3, tutulan sayi 3.\n",
            "Tahmininiz Basarili!...\n"
          ]
        }
      ]
    },
    {
      "cell_type": "code",
      "source": [
        "#Bonus\n",
        "\n",
        "for genel in range (1,10,1):\n",
        "  for bosluk in range (1,11-genel,1):\n",
        "    print(\" \",end=\" \")\n",
        "\n",
        "  for yildiz in range (1,10-(bosluk-1),1):\n",
        "    print(\"*\",end=\" \")\n",
        "\n",
        "  for yildiz2 in range (10,bosluk-1,-1):\n",
        "    print(\"*\",end=\" \")\n",
        "\n",
        "  print()"
      ],
      "metadata": {
        "colab": {
          "base_uri": "https://localhost:8080/"
        },
        "id": "yuHhuUyyMDeO",
        "outputId": "f02b5635-25ae-4f0b-e30e-d1712c3eec22"
      },
      "execution_count": 1,
      "outputs": [
        {
          "output_type": "stream",
          "name": "stdout",
          "text": [
            "                  * * * \n",
            "                * * * * * \n",
            "              * * * * * * * \n",
            "            * * * * * * * * * \n",
            "          * * * * * * * * * * * \n",
            "        * * * * * * * * * * * * * \n",
            "      * * * * * * * * * * * * * * * \n",
            "    * * * * * * * * * * * * * * * * * \n",
            "  * * * * * * * * * * * * * * * * * * * \n"
          ]
        }
      ]
    }
  ]
}
