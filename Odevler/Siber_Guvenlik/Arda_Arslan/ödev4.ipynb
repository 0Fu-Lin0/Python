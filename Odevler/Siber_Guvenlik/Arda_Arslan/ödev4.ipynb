{
  "nbformat": 4,
  "nbformat_minor": 0,
  "metadata": {
    "colab": {
      "provenance": []
    },
    "kernelspec": {
      "name": "python3",
      "display_name": "Python 3"
    },
    "language_info": {
      "name": "python"
    }
  },
  "cells": [
    {
      "cell_type": "code",
      "source": [
        "def rakam_top(x):\n",
        "    temp = 0\n",
        "    sayac = 0\n",
        "    x_1 = str(x)\n",
        "\n",
        "    for karakter in x_1:\n",
        "        temp = temp + int(karakter)\n",
        "    print(temp)\n",
        "\n",
        "\n",
        "sayi = int(input(\"Bir Sayi Giriniz: \"))\n",
        "rakam_top(sayi)"
      ],
      "metadata": {
        "colab": {
          "base_uri": "https://localhost:8080/"
        },
        "id": "A26LvpTzt1ap",
        "outputId": "35e66610-3615-47c1-fc96-1fd45532edde"
      },
      "execution_count": 3,
      "outputs": [
        {
          "output_type": "stream",
          "name": "stdout",
          "text": [
            "Bir Sayi Giriniz: 1011\n",
            "3\n"
          ]
        }
      ]
    },
    {
      "cell_type": "code",
      "execution_count": 1,
      "metadata": {
        "colab": {
          "base_uri": "https://localhost:8080/"
        },
        "id": "GAotCFemtj3j",
        "outputId": "657ab74c-a93b-4d30-9ad4-de7fab74f027"
      },
      "outputs": [
        {
          "output_type": "stream",
          "name": "stdout",
          "text": [
            "Bir Sayi Giriniz: 1011\n",
            "1101\n"
          ]
        }
      ],
      "source": [
        "def cevirme_islemi(x):\n",
        "\n",
        "    x_1 = int(str(x)[::-1])\n",
        "\n",
        "    return x_1\n",
        "\n",
        "sayi = int(input(\"Bir Sayi Giriniz: \"))\n",
        "print(cevirme_islemi(sayi))"
      ]
    },
    {
      "cell_type": "code",
      "source": [
        "def sayi_kontrol(x):\n",
        "    x_1 = str(x)\n",
        "    sayac_genel = 0\n",
        "    sayac_True = 0\n",
        "    for sayilar in x_1:\n",
        "        sayac_genel = sayac_genel+1\n",
        "        if(sayilar == \"1\" or sayilar == \"0\"):\n",
        "            sayac_True = sayac_True + 1\n",
        "\n",
        "    if(sayac_genel == sayac_True):\n",
        "\n",
        "        return x\n",
        "    else:\n",
        "        return False\n",
        "\n",
        "\n",
        "\n",
        "def convert_to_decimal(x):\n",
        "    if sayi_kontrol(x):\n",
        "        uzunluk = len(str(x))\n",
        "        sayi= 0\n",
        "        x_yeni = int(str(x)[::-1])\n",
        "        for sayac in range (uzunluk):\n",
        "            sayi = sayi + (int(str(x_yeni)[sayac]) * (2**sayac))\n",
        "        return sayi\n",
        "    else:\n",
        "        return False\n",
        "\n",
        "\n",
        "sayi = int(input(\"Bir sayi giriniz: \"))\n",
        "x=convert_to_decimal(sayi)\n",
        "print(x)\n"
      ],
      "metadata": {
        "colab": {
          "base_uri": "https://localhost:8080/"
        },
        "id": "Mey4alwjtuWD",
        "outputId": "f8a23ed0-093c-4c28-da52-46d2aa7cec1f"
      },
      "execution_count": 2,
      "outputs": [
        {
          "output_type": "stream",
          "name": "stdout",
          "text": [
            "Bir sayi giriniz: 1011\n",
            "11\n"
          ]
        }
      ]
    }
  ]
}
