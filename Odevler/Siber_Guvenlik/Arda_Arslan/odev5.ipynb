{
  "nbformat": 4,
  "nbformat_minor": 0,
  "metadata": {
    "colab": {
      "provenance": []
    },
    "kernelspec": {
      "name": "python3",
      "display_name": "Python 3"
    },
    "language_info": {
      "name": "python"
    }
  },
  "cells": [
    {
      "cell_type": "code",
      "execution_count": 5,
      "metadata": {
        "colab": {
          "base_uri": "https://localhost:8080/"
        },
        "id": "qsFdbTdU7G-F",
        "outputId": "cde25e13-110e-4d35-8540-344092eef9c7"
      },
      "outputs": [
        {
          "output_type": "stream",
          "name": "stdout",
          "text": [
            "Istanbul - Giresun - Ankara - Trabzon Sehirlerinden Birini Seciniz!!\n",
            "\n",
            "Sehir Isimi Giriniz: Giresun\n",
            "Giresun Sehirindeki Oteller Basarili Bir Sekilde Dosyaya Aktarildi!\n"
          ]
        }
      ],
      "source": [
        "otelsehirler= open(\"otel-sehirler.txt\", \"r\")\n",
        "\n",
        "\n",
        "line = []\n",
        "lines = []\n",
        "\n",
        "\n",
        "\n",
        "for i in range (8):\n",
        "\n",
        "    line.append(otelsehirler.readline())\n",
        "\n",
        "\n",
        "otelsehirler.close()\n",
        "\n",
        "print(\"Istanbul - Giresun - Ankara - Trabzon Sehirlerinden Birini Seciniz!!\\n\")\n",
        "\n",
        "sehir = input(\"Sehir Isimi Giriniz: \")\n",
        "\n",
        "\n",
        "if(sehir == \"Giresun\"):\n",
        "\n",
        "    for i in range (len(line)):\n",
        "        if(\"Giresun\" in line[i]):\n",
        "            lines.append(line[i])\n",
        "\n",
        "            giresun_otel = open(\"oteller.txt\",\"w\")\n",
        "\n",
        "            for i in range (len(lines)):\n",
        "                giresun_otel.write(lines[i])\n",
        "\n",
        "            giresun_otel.close()\n",
        "\n",
        "    print(\"Giresun Sehirindeki Oteller Basarili Bir Sekilde Dosyaya Aktarildi!\")\n",
        "\n",
        "if(sehir== \"Trabzon\"):\n",
        "    for i in range (len(line)):\n",
        "        if(\"Trabzon\" in line[i]):\n",
        "            lines.append(line[i])\n",
        "            trabzon_otel = open(\"oteller.txt\",\"w\")\n",
        "            for i in range (len(lines)):\n",
        "                trabzon_otel.write(lines[i])\n",
        "\n",
        "            trabzon_otel.close()\n",
        "    print(\"Trabzon Sehirindeki Oteller Basarili Bir Sekilde Dosyaya Aktarildi!\")\n",
        "\n",
        "\n",
        "\n",
        "if(sehir == \"Ankara\"):\n",
        "    for i in range (len(line)):\n",
        "        if(\"Ankara\" in line[i]):\n",
        "            lines.append(line[i])\n",
        "            ankara_otel = open(\"oteller.txt\",\"w\")\n",
        "            for i in range (len(lines)):\n",
        "                ankara_otel.write(lines[i])\n",
        "\n",
        "            ankara_otel.close()\n",
        "\n",
        "    print(\"Ankara Sehirindeki Oteller Basarili Bir Sekilde Dosyaya Aktarildi!\")\n",
        "\n",
        "\n",
        "\n",
        "\n",
        "if(sehir == \"Istanbul\"):\n",
        "\n",
        "    for i in range (len(line)):\n",
        "\n",
        "        if(\"Istanbul\" in line[i]):\n",
        "\n",
        "            lines.append(line[i])\n",
        "\n",
        "            istanbul_otel = open(\"oteller.txt\",\"w\")\n",
        "\n",
        "            for i in range (len(lines)):\n",
        "                istanbul_otel.write(lines[i])\n",
        "\n",
        "            istanbul_otel.close()\n",
        "\n",
        "    print(\"Istanbul Sehirindeki Oteller Basarili Bir Sekilde Dosyaya Aktarildi!\")\n"
      ]
    },
    {
      "cell_type": "code",
      "source": [
        "print(\"Lutfen .txt uzantili olarak dosya isimlerini giriniz!!!\\n\")\n",
        "\n",
        "dosya_1 = input(\"Birinci Dosya Adini Belirtiniz: \")\n",
        "dosya_2 = input(\"Ikinci Dosya Adini Belirtiniz: \")\n",
        "\n",
        "cicek_1 = open(\"cicek1.txt\",\"r\")\n",
        "cicek_2 = open(\"cicek2.txt\",\"r\")\n",
        "\n",
        "line1 = []\n",
        "line2 = []\n",
        "\n",
        "for i in range (10):\n",
        "\n",
        "    line1.append(cicek_1.readline())\n",
        "\n",
        "for i in range (10):\n",
        "    line2.append(cicek_2.readline())\n",
        "\n",
        "\n",
        "cicek_1.close()\n",
        "cicek_2.close()\n",
        "\n",
        "\n",
        "toplam_cicek = open(\"cicektoplam.txt\",\"w\")\n",
        "\n",
        "line_toplam = line1 + line2\n",
        "line_toplam.insert(10,\"\\n\")\n",
        "\n",
        "\n",
        "for i in range (21):\n",
        "\n",
        "    toplam_cicek.write(line_toplam[i])\n",
        "\n",
        "\n",
        "print(\"Islem Basarili Bir Sekilde Yapildi\")\n",
        "\n",
        "toplam_cicek.close()\n"
      ],
      "metadata": {
        "colab": {
          "base_uri": "https://localhost:8080/"
        },
        "id": "KM-C1wHHJLk1",
        "outputId": "fd95f13f-57a0-4c4a-c7f1-77a0925071bc"
      },
      "execution_count": 6,
      "outputs": [
        {
          "output_type": "stream",
          "name": "stdout",
          "text": [
            "Lutfen .txt uzantili olarak dosya isimlerini giriniz!!!\n",
            "\n",
            "Birinci Dosya Adini Belirtiniz: cicek1.txt\n",
            "Ikinci Dosya Adini Belirtiniz: cicek2.txt\n",
            "Islem Basarili Bir Sekilde Yapildi\n"
          ]
        }
      ]
    },
    {
      "cell_type": "code",
      "source": [
        "ulkeler = open(\"05_worldarea.txt\",\"r\")\n",
        "\n",
        "line = []\n",
        "line2 = []\n",
        "\n",
        "for i in range(10):\n",
        "\n",
        "    line.append(ulkeler.readline())\n",
        "\n",
        "\n",
        "ulkeler.close()\n",
        "\n",
        "nufus_yogunluk = open(\"05_worldpop.txt\",\"r\")\n",
        "\n",
        "for i in range(10):\n",
        "\n",
        "    line2.append(nufus_yogunluk.readline())\n",
        "\n",
        "nufus_yogunluk.close()\n",
        "\n",
        "\n",
        "total = open(\"05_world_pop_density.txt\",\"w\")\n",
        "\n",
        "for i in range(10):\n",
        "\n",
        "    total.write(line[i] + line2[i])\n",
        "\n",
        "\n",
        "\n",
        "total.close()\n",
        "\n",
        "print(\"Islem Basarili Bir Sekilde Yapildi\")"
      ],
      "metadata": {
        "colab": {
          "base_uri": "https://localhost:8080/"
        },
        "id": "eqNE9WBzJWUx",
        "outputId": "45341124-5398-4d6a-c980-b5f617e4b41a"
      },
      "execution_count": 7,
      "outputs": [
        {
          "output_type": "stream",
          "name": "stdout",
          "text": [
            "Islem Basarili Bir Sekilde Yapildi\n"
          ]
        }
      ]
    }
  ]
}
