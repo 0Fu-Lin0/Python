#faiz hesaplama
hesap_para = 10000
yillik_faiz = 15/100
faizli_para = hesap_para
geçen_zaman = 0

while faizli_para < hesap_para * 2:
    faizli_para = faizli_para + (faizli_para * yillik_faiz)
    geçen_zaman += 1

print("Ana paranin 2 kati olmasi için geçen zaman =", geçen_zaman)



#mikroorganizma sayisi
mikroorganizma_sayisi = int(input("Başlangiç mikroorganizma sayisini girin: "))
hedef_sayi = 1000000
zaman = 0  

while mikroorganizma_sayisi < hedef_sayi:
    mikroorganizma_sayisi *= 2  
    zaman += 10  

gunler = zaman // 24
kalan_saatler = zaman % 24

print(f"{hedef_sayi} mikroorganizmaya sahip olmak için gereken süre: {gunler} gün, {kalan_saatler} saat")



#girilen sayi ortalaması
toplam = 0
sayaç = 0

while True:
    sayi = int(input("lütfen sayi giriniz : "))
    if sayi < 0:
        break  
    toplam += sayi
    sayaç += 1

if sayaç > 0:
    ortalama = toplam / sayaç
    print("Girdiğiniz sayilarin ortalamasi:", ortalama)
else:
    print("Hiç pozitif sayi girilmedi.")



#sayi tahmin etme
import random

hedef_sayi = random.randint(1, 10)
tahminler = 0

print("1 ile 10 arasinda bir sayiyi tahmin etmeye çalişin.")

while True:
    tahmin = int(input("Tahmininizi girin: "))
    tahminler += 1

    if tahmin == hedef_sayi:
        print("Tebrikler doğru ceavap = ")
        print("yapmiş olduğunuz tahmin sayisi =" , tahminler)
        print("tahmininiz =" , hedef_sayi)
        break

    else:
        print("Tahmininiz yanlis tekrar deneyiniz")



#yildiz oluşturma
max_rows = 10
for row in range(1, max_rows + 1):
    for _ in range(max_rows - row):
        print(" ", end=" ")
    
    for _ in range(2 * row - 1):
        print("*", end=" ")
    
    print()
