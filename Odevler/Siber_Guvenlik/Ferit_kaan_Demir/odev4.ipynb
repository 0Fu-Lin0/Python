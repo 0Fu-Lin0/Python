1-)
def rakamlar_toplami(sayi):
    if sayi <= 0:
        return "Lütfen pozitif bir tam sayı girin."
    toplam = 0
    while sayi > 0:
        toplam += sayi % 10
        sayi //= 10
    return toplam
girilen_sayi = int(input("Pozitif bir tam sayı girin: "))

sonuc = rakamlar_toplami(girilen_sayi)

print(f"{girilen_sayi} sayısının rakamları toplamı: {sonuc}")

2-)
def sayi_tersi(sayi):
    # Sayıyı ters çevir
    ters_sayi = int(str(sayi)[::-1])
    return ters_sayi
girilen_sayi = int(input("Bir sayı girin: "))
ters_girilen_sayi = sayi_tersi(girilen_sayi)

print(f"{girilen_sayi} sayısının tersi: {ters_girilen_sayi}")

3-)
def ikili_to_ondalik(ikili_dizi):
    ondalik_deger = 0
    uzunluk = len(ikili_dizi)
    for i in range(uzunluk):
        ondalik_deger += int(ikili_dizi[i]) * (2 ** (uzunluk - 1 - i))
    return ondalik_deger
ikili_sayi = input("2 tabanındaki bir ikili sayıyı girin: ")
ondalik_deger = ikili_to_ondalik(ikili_sayi)

print(f"{ikili_sayi} sayısının ondalık eşdeğeri: {ondalik_deger}")

4-)
ef is_binary(dizge):
    for karakter in dizge:
        if karakter not in {'0', '1'}:
            return False
    return True
girilen_dizge = input("Bir dizge girin: ")
sonuc = is_binary(girilen_dizge)

if sonuc:
    print(f"{girilen_dizge} bir ikili dizgedir.")
else:
    print(f"{girilen_dizge} bir ikili dizge değildir.")

5-)
def is_binary(dizge):
    for karakter in dizge:
        if karakter not in {'0', '1'}:
            return False
    return True

def Convert_to_decimal(ikili_dizge):
    if not is_binary(ikili_dizge):
        return "Geçersiz ikili dizge. Lütfen 0'lar ve 1'lerden oluşan bir dizge girin."
    ondalik_deger = 0
    uzunluk = len(ikili_dizge)

    for i in range(uzunluk):
        ondalik_deger += int(ikili_dizge[i]) * (2 ** (uzunluk - 1 - i))
    return ondalik_deger

ikili_dizge = input("Bir ikili dizge girin: ")
try:
    ondalik_deger = Convert_to_decimal(ikili_dizge)
    print(f"{ikili_dizge} sayısının ondalık eşdeğeri: {ondalik_deger}")
except Exception as e:
    print(e)  
