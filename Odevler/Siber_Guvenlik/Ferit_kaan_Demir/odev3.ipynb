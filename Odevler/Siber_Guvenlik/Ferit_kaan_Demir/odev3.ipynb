1-)
başlangıç_para = 10000  
faiz_orani = 0.15  
hedef_para = 2 * başlangıç_para  
yil = 0

while başlangıç_para < hedef_para:
    başlangıç_para += başlangıç_para * faiz_orani
    yil += 1

print(f"{yil} yıl sonra başlangıç para {hedef_para} TL'yi ikiye katlayacaktır.")

2-)
baslangic_populasyon = int(input("Başlangıç mikroorganizma sayısını girin: "))
hedef_populasyon = 1000000
saatlik_katlanma_suresi = 10
toplam_saat = 0

while baslangic_populasyon < hedef_populasyon:
    baslangic_populasyon *= 2
    toplam_saat += saatlik_katlanma_suresi

gunler = toplam_saat // 24
kalan_saat = toplam_saat % 24

print(f"{gunler} gün ve {kalan_saat} saat sonra mikroorganizma popülasyonu 1,000,000'i aşacaktır.")

3-)
toplam = 0
sayac = 0

while True:
    deger = int(input("Pozitif bir tamsayı girin (Negatif değer girerek çıkabilirsiniz): "))
    if deger < 0:
        break  
    toplam += deger
    sayac += 1

if sayac > 0:
    ortalama = toplam / sayac
    print(f"Girdiğiniz pozitif sayıların ortalaması: {ortalama}")
else:
    print("Hiç pozitif sayı girilmedi.")

4-)
import random

rastgele_sayi = random.randint(1, 10)
tahminler = 0

print("1 ile 10 arasında bir sayı tahmin edin.")

while True:
    tahmin = int(input("Tahmininizi girin: "))
    tahminler += 1

    if tahmin == rastgele_sayi:
        print(f"Tebrikler! {tahmin} sayısını {tahminler} denemede buldunuz.")
        break
    elif tahmin < rastgele_sayi:
        print("Daha yüksek bir sayı tahmin edin.")
    else:
        print("Daha düşük bir sayı tahmin edin.")

