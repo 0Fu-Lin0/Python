1-)
def otelleri_oku(dosya_adı):
    try:
        with open(dosya_adı, 'r', encoding='utf-8') as dosya:
            return dosya.readlines()
    except FileNotFoundError:
        print(f"{dosya_adı} adlı dosya bulunamadı.")
        return []

def otelleri_yaz(dosya_adı, otel_listesi):
    with open(dosya_adı, 'w', encoding='utf-8') as dosya:
        dosya.writelines(otel_listesi)

def main():
    dosya_adı = "oteller.txt"
    otel_verileri = otelleri_oku(dosya_adı)

    if not otel_verileri:
        return

    sehir = input("Lütfen bir şehir adı girin: ").strip().lower()
    secilen_sehir_oteller = []

    for satir in otel_verileri:
        if f"{sehir.lower()}-" in satir.lower():
            secilen_sehir_oteller.append(satir)

    if secilen_sehir_oteller:
        yeni_dosya_adı = f"{sehir}_oteller.txt"
        otelleri_yaz(yeni_dosya_adı, secilen_sehir_oteller)
        print(f"{sehir} şehrindeki oteller {yeni_dosya_adı} dosyasına kaydedildi.")
    else:
        print(f"{sehir} şehrinde otel bulunamadı.")

if __name__ == "__main__":
    main()


2-)
def dosyayi_oku(dosya_adı):
    try:
        with open(dosya_adı, 'r', encoding='utf-8') as dosya:
            return dosya.readlines()
    except FileNotFoundError:
        print(f"{dosya_adı} adlı dosya bulunamadı.")
        return []

def dosyayi_yaz(dosya_adı, icerik):
    with open(dosya_adı, 'w', encoding='utf-8') as dosya:
        dosya.writelines(icerik)

def dosyalari_birlestir_ve_sirala(dosya1, dosya2):
    icerik1 = dosyayi_oku(dosya1)
    icerik2 = dosyayi_oku(dosya2)

    if not icerik1 or not icerik2:
        return []

    birlesik_icerik = icerik1 + icerik2
    siralanmis_icerik = sorted(birlesik_icerik, key=lambda x: x.lower())

    return siralanmis_icerik

def main():
    dosya1_adı = input("Lütfen ilk dosyanın adını girin: ").strip()
    dosya2_adı = input("Lütfen ikinci dosyanın adını girin: ").strip()

    birlesik_icerik = dosyalari_birlestir_ve_sirala(dosya1_adı, dosya2_adı)

    if birlesik_icerik:
        yeni_dosya_adı = "birlesik_sirali_dosya.txt"
        dosyayi_yaz(yeni_dosya_adı, birlesik_icerik)
        print(f"Dosyalar birleştirildi ve sıralandı. Sonuç {yeni_dosya_adı} dosyasına kaydedildi.")
    else:
        print("Dosyalar birleştirilemedi veya boş. Lütfen dosya içeriklerini kontrol edin.")

if __name__ == "__main__":
    main()



3-)
def dosyayi_oku(dosya_adı):
    try:
        with open(dosya_adı, 'r', encoding='utf-8') as dosya:
            return dosya.readlines()
    except FileNotFoundError:
        print(f"{dosya_adı} adlı dosya bulunamadı.")
        return []

def dosyayi_yaz(dosya_adı, icerik):
    with open(dosya_adı, 'w', encoding='utf-8') as dosya:
        dosya.writelines(icerik)

def nufus_yogunlugu_hesapla(population, area):
    try:
        population = int(population)
        area = float(area)
        density = population / area
        return density
    except (ValueError, ZeroDivisionError):
        return None

def main():
    worldpop_adı = "05_worldpop.txt"
    worldarea_adı = "05_worldarea.txt"

    worldpop_icerik = dosyayi_oku(worldpop_adı)
    worldarea_icerik = dosyayi_oku(worldarea_adı)

    if not worldpop_icerik or not worldarea_icerik:
        return

    world_pop_density = []

    for pop_satir, area_satir in zip(worldpop_icerik, worldarea_icerik):
        pop_bilgi = pop_satir.strip().split()
        area_bilgi = area_satir.strip().split()

        if pop_bilgi[0] == area_bilgi[0]:  # Ülkeler aynı sırayla olduğunu kontrol et
            nufus_yogunlugu = nufus_yogunlugu_hesapla(pop_bilgi[1], area_bilgi[1])

            if nufus_yogunlugu is not None:
                yeni_satir = f"{pop_bilgi[0]}: {nufus_yogunlugu:.2f} kişi/km²\n"
                world_pop_density.append(yeni_satir)

    if world_pop_density:
        yeni_dosya_adı = "world_pop_density.txt"
        dosyayi_yaz(yeni_dosya_adı, world_pop_density)
        print(f"Nüfus yoğunlukları hesaplandı ve {yeni_dosya_adı} dosyasına yazıldı.")
    else:
        print("Dosyalar içerikleri uyumsuz veya boş. Lütfen dosya içeriklerini kontrol edin.")

if __name__ == "__main__":
    main()


