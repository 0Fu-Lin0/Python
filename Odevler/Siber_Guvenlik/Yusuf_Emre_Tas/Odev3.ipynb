{
  "nbformat": 4,
  "nbformat_minor": 0,
  "metadata": {
    "colab": {
      "provenance": []
    },
    "kernelspec": {
      "name": "python3",
      "display_name": "Python 3"
    },
    "language_info": {
      "name": "python"
    }
  },
  "cells": [
    {
      "cell_type": "code",
      "execution_count": 3,
      "metadata": {
        "colab": {
          "base_uri": "https://localhost:8080/"
        },
        "id": "_G1C-t9xeLWb",
        "outputId": "a2fd6c66-2282-41a0-c023-ad701e20e2ce"
      },
      "outputs": [
        {
          "output_type": "stream",
          "name": "stdout",
          "text": [
            "10000TL, yıllık %15 faiz oranı ile 5 yıl sonra ikiye katlanır.\n"
          ]
        }
      ],
      "source": [
        "ana_bakiye = 10000  # TL\n",
        "faiz_orani = 0.15  # %15\n",
        "hedef_bakiye = ana_bakiye * 2\n",
        "yil = 0\n",
        "\n",
        "#Ana bakiye hedef bakiyeyi geçene kadar döngüyü devam ettirir\n",
        "while ana_bakiye < hedef_bakiye:\n",
        "    #Ana bakiyeyi faiz ekleyerek günceller\n",
        "    ana_bakiye += ana_bakiye * faiz_orani\n",
        "    #Yıl sayısını arttırır\n",
        "    yil += 1\n",
        "\n",
        "#Sonucu ekrana yazdırır\n",
        "print(f\"10000TL, yıllık %15 faiz oranı ile {yil} yıl sonra ikiye katlanır.\")\n"
      ]
    },
    {
      "cell_type": "code",
      "source": [
        "baslangic_populasyonu = int(input(\"Başlangıç mikroorganizma sayısını giriniz: \"))\n",
        "hedef_populasyon = 1000000\n",
        "gun = 0\n",
        "saat = 0\n",
        "\n",
        "#Mikroorganizma sayısını başlangıçtan hedefe ulaşana kadar arttırır\n",
        "while baslangic_populasyonu < hedef_populasyon:\n",
        "    #Her 10 saatte bir mikroorganizma sayısını ikiye katlar\n",
        "    baslangic_populasyonu *= 2\n",
        "    #Geçen saatleri günceller\n",
        "    saat += 10\n",
        "    #Eğer saat 24 ise bir gün ekleyip saati sıfırlar\n",
        "    if saat >= 24:\n",
        "        gun += 1\n",
        "        saat = saat - 24\n",
        "\n",
        "#Sonucu ekrana yazdırır\n",
        "print(f\"{baslangic_populasyonu} organizmaya sahip olmak için geçen süre: {gun} gün {saat} saat.\")\n"
      ],
      "metadata": {
        "colab": {
          "base_uri": "https://localhost:8080/"
        },
        "id": "UCUr_5StfNYQ",
        "outputId": "681dddb5-1e80-452b-fd87-b014cb66befa"
      },
      "execution_count": 4,
      "outputs": [
        {
          "output_type": "stream",
          "name": "stdout",
          "text": [
            "Başlangıç mikroorganizma sayısını giriniz: 32\n",
            "1048576 organizmaya sahip olmak için geçen süre: 6 gün 6 saat.\n"
          ]
        }
      ]
    },
    {
      "cell_type": "code",
      "source": [
        "toplam = 0  #Girişlerin toplamı\n",
        "sayac = 0   #Giriş sayısını takip eden sayaç\n",
        "\n",
        "#Kullanıcı negatif bir değer girene kadar döngüyü sürdürür\n",
        "while True:\n",
        "    #Kullanıcıdan pozitif bir tamsayı girişi ister\n",
        "    deger = int(input(\"Pozitif bir tamsayı girin (çıkış yapmak için negatif bir değer girin.): \"))\n",
        "\n",
        "    #Eğer negatif bir değer girildiyse döngüden çıkar\n",
        "    if deger < 0:\n",
        "        break\n",
        "\n",
        "    #Girişi toplama ekler\n",
        "    toplam += deger\n",
        "\n",
        "    #Giriş sayısını arttırıe\n",
        "    sayac += 1\n",
        "\n",
        "#Eğer hiç giriş yapılmamışsa, ortalamayı hesaplamadan çıkar\n",
        "if sayac == 0:\n",
        "    print(\"Hiç pozitif tamsayı girişi yapılmadı.\")\n",
        "else:\n",
        "    #Ortalamayı hesaplar\n",
        "    ortalama = toplam / sayac\n",
        "    #Sonucu ekrana yazdırır\n",
        "    print(f\"Girilen {sayac} pozitif tamsayının ortalaması: {ortalama:.2f}\")\n"
      ],
      "metadata": {
        "colab": {
          "base_uri": "https://localhost:8080/"
        },
        "id": "0wETqaFZf1gL",
        "outputId": "ff5673b7-a5a2-44d2-b74d-3ccab1d05da9"
      },
      "execution_count": 6,
      "outputs": [
        {
          "output_type": "stream",
          "name": "stdout",
          "text": [
            "Pozitif bir tamsayı girin (çıkış yapmak için negatif bir değer girin.): 12\n",
            "Pozitif bir tamsayı girin (çıkış yapmak için negatif bir değer girin.): 34\n",
            "Pozitif bir tamsayı girin (çıkış yapmak için negatif bir değer girin.): 6\n",
            "Pozitif bir tamsayı girin (çıkış yapmak için negatif bir değer girin.): 18\n",
            "Pozitif bir tamsayı girin (çıkış yapmak için negatif bir değer girin.): -1\n",
            "Girilen 4 pozitif tamsayının ortalaması: 17.50\n"
          ]
        }
      ]
    },
    {
      "cell_type": "code",
      "source": [
        "import random\n",
        "\n",
        "#Rastgele sayıyı oluşturur\n",
        "hedef_sayi = random.randint(1, 10)\n",
        "\n",
        "#Tahmin sayısını takip eden sayaç\n",
        "tahmin_sayisi = 0\n",
        "\n",
        "print(\"1 ile 10 arasında bir sayı tahmin edin.\")\n",
        "\n",
        "while True:\n",
        "    #Kullanıcıdan tahmin girişi alır\n",
        "    tahmin = int(input(\"Tahmininizi girin: \"))\n",
        "\n",
        "    #Tahmin sayısını arttırır\n",
        "    tahmin_sayisi += 1\n",
        "\n",
        "    #Kullanıcının tahminini kontrol eder\n",
        "    if tahmin < hedef_sayi:\n",
        "        print(\"Daha yüksek bir sayı girin.\")\n",
        "    elif tahmin > hedef_sayi:\n",
        "        print(\"Daha düşük bir sayı girin.\")\n",
        "    else:\n",
        "        print(f\"Tebrikler! {hedef_sayi} sayısını {tahmin_sayisi} tahminde buldunuz.\")\n",
        "        break\n"
      ],
      "metadata": {
        "colab": {
          "base_uri": "https://localhost:8080/"
        },
        "id": "eJ4GbJMVhDoW",
        "outputId": "2e44cd18-4205-47e1-e017-17e4c98010ce"
      },
      "execution_count": 8,
      "outputs": [
        {
          "output_type": "stream",
          "name": "stdout",
          "text": [
            "1 ile 10 arasında bir sayı tahmin edin.\n",
            "Tahmininizi girin: 4\n",
            "Daha yüksek bir sayı girin.\n",
            "Tahmininizi girin: 7\n",
            "Daha yüksek bir sayı girin.\n",
            "Tahmininizi girin: 9\n",
            "Daha düşük bir sayı girin.\n",
            "Tahmininizi girin: 8\n",
            "Tebrikler! 8 sayısını 4 tahminde buldunuz.\n"
          ]
        }
      ]
    }
  ]
}
