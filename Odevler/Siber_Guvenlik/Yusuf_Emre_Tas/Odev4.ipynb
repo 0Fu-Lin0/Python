{
  "nbformat": 4,
  "nbformat_minor": 0,
  "metadata": {
    "colab": {
      "provenance": []
    },
    "kernelspec": {
      "name": "python3",
      "display_name": "Python 3"
    },
    "language_info": {
      "name": "python"
    }
  },
  "cells": [
    {
      "cell_type": "code",
      "execution_count": 6,
      "metadata": {
        "colab": {
          "base_uri": "https://localhost:8080/"
        },
        "id": "qvhzWDnV8Nmm",
        "outputId": "06a16749-1805-43d4-f394-70968b64e04d"
      },
      "outputs": [
        {
          "output_type": "stream",
          "name": "stdout",
          "text": [
            "Pozitif bir tam sayı girin: 23\n",
            "23 sayısının rakamlarının toplamı: 5\n"
          ]
        }
      ],
      "source": [
        "def rakamlar_toplami(sayi):\n",
        "    toplam = 0\n",
        "\n",
        "    #Sayının her bir rakamını alarak toplama ekler\n",
        "    while sayi > 0:\n",
        "        toplam += sayi % 10\n",
        "        sayi //= 10\n",
        "\n",
        "    return toplam\n",
        "\n",
        "#Kullanıcıdan pozitif bir tam sayı girişi alır\n",
        "\n",
        "kullanici_sayi = int(input(\"Pozitif bir tam sayı girin: \"))\n",
        "#Fonksiyonu kullanarak rakamların toplamını hesaplar\n",
        "toplam = rakamlar_toplami(kullanici_sayi)\n",
        "\n",
        "#Sonucu ekrana yazdırır\n",
        "print(f\"{kullanici_sayi} sayısının rakamlarının toplamı: {toplam}\")\n"
      ]
    },
    {
      "cell_type": "code",
      "source": [
        "#Sayıyı stringe çevirerek tersine çevirir ve tekrar integer'a dönüştürür\n",
        "def sayiyi_tersine_cevir(sayi):\n",
        "\n",
        "    ters_sayi = int(str(sayi)[::-1])\n",
        "    return ters_sayi\n"
      ],
      "metadata": {
        "id": "S0R7RMEn-KWN"
      },
      "execution_count": null,
      "outputs": []
    }
  ]
}
