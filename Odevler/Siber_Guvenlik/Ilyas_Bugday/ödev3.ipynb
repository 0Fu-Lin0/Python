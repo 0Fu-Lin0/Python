{
  "nbformat": 4,
  "nbformat_minor": 0,
  "metadata": {
    "colab": {
      "provenance": []
    },
    "kernelspec": {
      "name": "python3",
      "display_name": "Python 3"
    },
    "language_info": {
      "name": "python"
    }
  },
  "cells": [
    {
      "cell_type": "code",
      "execution_count": 33,
      "metadata": {
        "colab": {
          "base_uri": "https://localhost:8080/"
        },
        "id": "dNsnc0bIP_3N",
        "outputId": "90a6a459-7969-4e22-d871-3cea9055f11e"
      },
      "outputs": [
        {
          "output_type": "stream",
          "name": "stdout",
          "text": [
            "6.666666666666667 yılda paranı 2 ye katlarsın\n"
          ]
        }
      ],
      "source": [
        "para=10000\n",
        "\n",
        "yillikg=(para/100)*15\n",
        "\n",
        "kacy=para/yillikg\n",
        "print(kacy,\"yılda paranı 2 ye katlarsın\")"
      ]
    },
    {
      "cell_type": "code",
      "source": [
        "org=1000000\n",
        "\n",
        "for i in range(1,1000000):\n",
        "  yil=org/2\n",
        "  if yil<1:\n",
        "    break\n",
        "\n",
        "print(yil)"
      ],
      "metadata": {
        "colab": {
          "base_uri": "https://localhost:8080/"
        },
        "id": "qFpHUgY2Q8up",
        "outputId": "10180d3b-9157-4a4d-8de7-8a681faeb44e"
      },
      "execution_count": 17,
      "outputs": [
        {
          "output_type": "stream",
          "name": "stdout",
          "text": [
            "500000.0\n"
          ]
        }
      ]
    },
    {
      "cell_type": "code",
      "source": [
        "toplam=0\n",
        "while True:\n",
        "  sayi = float(input(\"Bir sayı girin: \"))\n",
        "  if sayi <0:\n",
        "    break\n",
        "  toplam+=sayi\n",
        "print(\"Girdiğiniz sayıları toplamı: \",toplam)"
      ],
      "metadata": {
        "colab": {
          "base_uri": "https://localhost:8080/"
        },
        "id": "aXeDJOvfUTxU",
        "outputId": "8bdc0cf5-fb94-4991-b9e2-613c28791902"
      },
      "execution_count": 24,
      "outputs": [
        {
          "output_type": "stream",
          "name": "stdout",
          "text": [
            "Bir sayı girin: 10\n",
            "Bir sayı girin: 5\n",
            "Bir sayı girin: 43\n",
            "Bir sayı girin: -1\n",
            "Girdiğiniz sayıları toplamı:  58.0\n"
          ]
        }
      ]
    },
    {
      "cell_type": "code",
      "source": [
        "import random\n",
        "\n",
        "tahmin = 0\n",
        "sayi = 0\n",
        "rastgele = random.randint(1,10)\n",
        "while (rastgele != sayi):\n",
        "  sayi = int(input(\"Tahmin ettiğiniiz sayıyı giriniz: \"))\n",
        "  tahmin += 1\n",
        "print( str(tahmin) + \" denemede sayıyı buldunuz\")"
      ],
      "metadata": {
        "colab": {
          "base_uri": "https://localhost:8080/"
        },
        "id": "6xUv1Mg_qBOR",
        "outputId": "df19b3fd-bc51-4b35-e374-b05d810d56ef"
      },
      "execution_count": 1,
      "outputs": [
        {
          "output_type": "stream",
          "name": "stdout",
          "text": [
            "Tahmin ettiğiniiz sayıyı giriniz: 4\n",
            "Tahmin ettiğiniiz sayıyı giriniz: 4\n",
            "Tahmin ettiğiniiz sayıyı giriniz: 5\n",
            "Tahmin ettiğiniiz sayıyı giriniz: 6\n",
            "Tahmin ettiğiniiz sayıyı giriniz: 7\n",
            "Tahmin ettiğiniiz sayıyı giriniz: 8\n",
            "Tahmin ettiğiniiz sayıyı giriniz: 1\n",
            "Tahmin ettiğiniiz sayıyı giriniz: 2\n",
            "Tahmin ettiğiniiz sayıyı giriniz: 3\n",
            "Tahmin ettiğiniiz sayıyı giriniz: 9\n",
            "10 denemede sayıyı buldunuz\n"
          ]
        }
      ]
    },
    {
      "cell_type": "code",
      "source": [],
      "metadata": {
        "id": "gAGoeWlprSTD"
      },
      "execution_count": null,
      "outputs": []
    }
  ]
}
