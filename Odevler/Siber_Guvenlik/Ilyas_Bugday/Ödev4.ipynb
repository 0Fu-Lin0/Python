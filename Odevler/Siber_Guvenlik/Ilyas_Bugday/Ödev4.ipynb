{
  "nbformat": 4,
  "nbformat_minor": 0,
  "metadata": {
    "colab": {
      "provenance": []
    },
    "kernelspec": {
      "name": "python3",
      "display_name": "Python 3"
    },
    "language_info": {
      "name": "python"
    }
  },
  "cells": [
    {
      "cell_type": "code",
      "execution_count": 2,
      "metadata": {
        "colab": {
          "base_uri": "https://localhost:8080/"
        },
        "id": "38u4f97_6OGN",
        "outputId": "fb0aea82-0366-49c1-bf96-6f92c5400d06"
      },
      "outputs": [
        {
          "output_type": "stream",
          "name": "stdout",
          "text": [
            "Pozitif bir tam sayı girin: 5\n",
            "Girdiğiniz sayının rakamlarının toplamı: 5\n"
          ]
        }
      ],
      "source": [
        "def rtoplam(sayi):\n",
        "    if sayi <= 0:\n",
        "        return \"pozitif bir sayı giriniz\"\n",
        "    toplam = 0\n",
        "    while sayi > 0:\n",
        "        rakam = sayi % 10\n",
        "        toplam += rakam\n",
        "        sayi //= 10\n",
        "\n",
        "    return toplam\n",
        "sayi = int(input(\"Rakamlarını toplamak istediğiniz bir sayı giriniz: \"))\n",
        "sonuc = rtoplam(sayi)\n",
        "print(f\"Girdiğiniz sayının rakamlarının toplamı: {sonuc}\")\n"
      ]
    },
    {
      "cell_type": "code",
      "source": [
        "def sters(sayi):\n",
        "\n",
        "    ters_sayi = str(sayi)[::-1]\n",
        "\n",
        "    ters_sayi = int(ters_sayi)\n",
        "\n",
        "    return ters_sayi\n",
        "\n",
        "sayi = int(input(\"Bir sayı giriniz\"))\n",
        "\n",
        "ters = sters(sayi)\n",
        "print(f\"Girdiğiniz sayının tersi: {ters}\")"
      ],
      "metadata": {
        "colab": {
          "base_uri": "https://localhost:8080/"
        },
        "id": "cXFOjJ506yZ4",
        "outputId": "f643be5c-3e19-4611-a929-edc0df5e736b"
      },
      "execution_count": 3,
      "outputs": [
        {
          "output_type": "stream",
          "name": "stdout",
          "text": [
            "Bir sayı girin: 25\n",
            "Girdiğiniz sayının tersi: 52\n"
          ]
        }
      ]
    },
    {
      "cell_type": "code",
      "source": [
        "def ikiliond(ikilisayi):\n",
        "    ondalik_deger = 0\n",
        "    uzunluk = len(ikilisayi)\n",
        "\n",
        "    for i in range(uzunluk):\n",
        "        ondalik_deger += int(ikilisayi[uzunluk - i - 1]) * (2**i)\n",
        "\n",
        "    return ondalik_deger\n",
        "ikilisayi = input(\"Bir ikili sayı girin: \")\n",
        "\n",
        "ondalik_deger = ikiliond(ikilisayi)\n",
        "print(f\"Girdiğiniz ikili sayının ondalık karşılığı: {ondalik_deger}\")"
      ],
      "metadata": {
        "colab": {
          "base_uri": "https://localhost:8080/"
        },
        "id": "pK7e0J8Q6_gS",
        "outputId": "53c0c389-2bb5-4dcd-dc2f-ac7e953bbbc4"
      },
      "execution_count": 4,
      "outputs": [
        {
          "output_type": "stream",
          "name": "stdout",
          "text": [
            "Bir ikili sayı girin: 25\n",
            "Girdiğiniz ikili sayının ondalık karşılığı: 9\n"
          ]
        }
      ]
    }
  ]
}
