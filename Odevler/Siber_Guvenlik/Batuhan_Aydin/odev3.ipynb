{
  "nbformat": 4,
  "nbformat_minor": 0,
  "metadata": {
    "colab": {
      "provenance": []
    },
    "kernelspec": {
      "name": "python3",
      "display_name": "Python 3"
    },
    "language_info": {
      "name": "python"
    }
  },
  "cells": [
    {
      "cell_type": "code",
      "execution_count": 5,
      "metadata": {
        "colab": {
          "base_uri": "https://localhost:8080/"
        },
        "id": "U3Ro-0CS9sVE",
        "outputId": "a34073c6-df5b-45af-d0fa-4f57b58521f2"
      },
      "outputs": [
        {
          "output_type": "stream",
          "name": "stdout",
          "text": [
            "5 sene sonra 20113.57 TL alacaksınız.\n"
          ]
        }
      ],
      "source": [
        "guncel_para = 10000\n",
        "faiz = 0.15\n",
        "katlanacak_para = 2 * guncel_para\n",
        "\n",
        "sene = 0\n",
        "\n",
        "while guncel_para < katlanacak_para:\n",
        "    guncel_para += guncel_para * faiz\n",
        "    sene += 1\n",
        "\n",
        "print(f\"{sene} sene sonra {guncel_para:.2f} TL alacaksınız.\")"
      ]
    },
    {
      "cell_type": "code",
      "source": [
        "ilk_populasyon = int(input(\"İlk organizma miktarını girin: \"))\n",
        "son_populasyon = 1000000\n",
        "zaman = 0\n",
        "\n",
        "while ilk_populasyon < son_populasyon:\n",
        "    ilk_populasyon *= 2\n",
        "    zaman += 10\n",
        "\n",
        "gun = zaman // 24\n",
        "saat = zaman % 24\n",
        "\n",
        "print(f\"{gun} gün {saat} saat sonra popülasyon {son_populasyon} ol.\")"
      ],
      "metadata": {
        "colab": {
          "base_uri": "https://localhost:8080/"
        },
        "id": "Zgeogl70BpOq",
        "outputId": "207c282e-903c-4a01-aef3-94c58af773cf"
      },
      "execution_count": 12,
      "outputs": [
        {
          "output_type": "stream",
          "name": "stdout",
          "text": [
            "İlk organizma miktarını girin: 15\n",
            "7 gün 2 saat sonra popülasyon 1000000 olur.\n"
          ]
        }
      ]
    },
    {
      "cell_type": "code",
      "source": [
        "toplam = 0\n",
        "sayi_adedi = 0\n",
        "\n",
        "while True:\n",
        "    try:\n",
        "        girilen_sayi = int(input(\"Pozitif tam sayı girin: \"))\n",
        "        if girilen_sayi < 0:\n",
        "            break\n",
        "        toplam += girilen_sayi\n",
        "        sayi_adedi += 1\n",
        "    except ValueError:\n",
        "        print(\"Giriş geçersiz.\")\n",
        "\n",
        "if sayi_adedi > 0:\n",
        "    ortalama = toplam / sayi_adedi\n",
        "    print(f\"Girilen sayıların ortalaması: {ortalama:.2f}\")\n",
        "else:\n",
        "    print(\"Pozitif sayı girilmedi.\")"
      ],
      "metadata": {
        "colab": {
          "base_uri": "https://localhost:8080/"
        },
        "id": "D5Oul5_BDGPX",
        "outputId": "f2a253e7-189a-47d1-f4ff-fd5ebe13a45a"
      },
      "execution_count": 16,
      "outputs": [
        {
          "output_type": "stream",
          "name": "stdout",
          "text": [
            "Pozitif tam sayı girin: \n",
            "Giriş geçersiz.\n",
            "Pozitif tam sayı girin: 6\n",
            "Pozitif tam sayı girin: 9\n",
            "Pozitif tam sayı girin: 4\n",
            "Pozitif tam sayı girin: 2\n",
            "Pozitif tam sayı girin: 5\n",
            "Pozitif tam sayı girin: -9\n",
            "Girilen sayıların ortalaması: 5.20\n"
          ]
        }
      ]
    },
    {
      "cell_type": "code",
      "source": [
        "import random\n",
        "\n",
        "sayilar = random.randint(1, 10)\n",
        "tahmini_sayisi = 0\n",
        "\n",
        "print(\"1 ile 10 arasında rastgele bir sayı seçildi. Bu sayıyı tahmin etmeye çalışın.\")\n",
        "\n",
        "while True:\n",
        "    tahmin = int(input(\"Tahmin ettiğiniz sayıyı girin: \"))\n",
        "    tahmini_sayisi += 1\n",
        "\n",
        "    if tahmin < sayilar:\n",
        "        print(\"Daha yüksek bir sayı tahmin edin.\")\n",
        "    elif tahmin > sayilar:\n",
        "        print(\"Daha düşük bir sayı tahmin edin.\")\n",
        "    else:\n",
        "        print(f\"Tebrikler {sayilar} sayısını {tahmini_sayisi} tahminde buldun.\")\n",
        "        break"
      ],
      "metadata": {
        "colab": {
          "base_uri": "https://localhost:8080/"
        },
        "id": "ZpacUeUCFFLu",
        "outputId": "5aa6b7d6-2d06-43f3-dd01-d33b68c78684"
      },
      "execution_count": 18,
      "outputs": [
        {
          "output_type": "stream",
          "name": "stdout",
          "text": [
            "1 ile 10 arasında rastgele bir sayı seçildi. Bu sayıyı tahmin etmeye çalışın.\n",
            "Tahmin ettiğiniz sayıyı girin: 6\n",
            "Daha düşük bir sayı tahmin edin.\n",
            "Tahmin ettiğiniz sayıyı girin: 4\n",
            "Tebrikler 4 sayısını 2 tahminde buldun.\n"
          ]
        }
      ]
    }
  ]
}
