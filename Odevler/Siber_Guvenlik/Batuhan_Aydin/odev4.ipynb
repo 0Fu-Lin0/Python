{
  "nbformat": 4,
  "nbformat_minor": 0,
  "metadata": {
    "colab": {
      "provenance": []
    },
    "kernelspec": {
      "name": "python3",
      "display_name": "Python 3"
    },
    "language_info": {
      "name": "python"
    }
  },
  "cells": [
    {
      "cell_type": "code",
      "execution_count": null,
      "metadata": {
        "id": "vxcEPnwzxXHw"
      },
      "outputs": [],
      "source": [
        "def rakam_toplami(sayi):\n",
        "\n",
        "    toplam = 0\n",
        "\n",
        "    while sayi > 0:\n",
        "        rakam = sayi % 10\n",
        "        toplam += rakam\n",
        "        sayi //= 10\n",
        "\n",
        "    return toplam\n",
        "\n",
        "sayi = int(input(\"Pozitif sayı girin: \"))\n",
        "\n",
        "sonuc = rakamlar_toplami(sayi)\n",
        "\n",
        "print(f\"{sayi} rakamları toplamı: {sonuc}\")\n"
      ]
    },
    {
      "cell_type": "code",
      "source": [
        "def sayi_tersi(sayi):\n",
        "    ters_sayi = int(str(sayi)[::-1])\n",
        "    return ters_sayi\n",
        "\n",
        "girilen_sayi = int(input(\"Bir sayı girin: \"))\n",
        "\n",
        "ters_girilen_sayi = sayi_tersi(girilen_sayi)\n",
        "\n",
        "print(f\"{girilen_sayi} sayısının tersi: {ters_girilen_sayi}\")\n"
      ],
      "metadata": {
        "id": "nqlKbxFAxw35"
      },
      "execution_count": null,
      "outputs": []
    },
    {
      "cell_type": "code",
      "source": [
        "def is_binary(dize):\n",
        "    return all(bit == '0' or bit == '1' for bit in dize)\n",
        "\n",
        "def convert_to_decimal(binary_str):\n",
        "    if is_binary(binary_str):\n",
        "        decimal_value = int(binary_str, 2)\n",
        "        return decimal_value\n",
        "    else:\n",
        "        return None\n",
        "\n",
        "binary_input = input(\"Bir ikili sayı girin: \")\n",
        "\n",
        "decimal_result = convert_to_decimal(binary_input)\n",
        "\n",
        "if decimal_result is not None:\n",
        "    print(f\"{binary_input} ikili sayısının ondalık eşdeğeri: {decimal_result}\")\n",
        "else:\n",
        "    print(\"Başarısız giriş. Lütfen sadece 0 ve 1 içeren bir ikili sayı girin.\")\n"
      ],
      "metadata": {
        "id": "46zUnsVMyi56"
      },
      "execution_count": null,
      "outputs": []
    }
  ]
}
