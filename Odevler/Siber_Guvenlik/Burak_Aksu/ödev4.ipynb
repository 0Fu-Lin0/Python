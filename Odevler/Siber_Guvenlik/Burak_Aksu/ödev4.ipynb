# Pozitif bir tam sayının rakamlarının toplamını veren bir
# fonksiyon yazınız. Kullanıcı tarafından girilen pozitif sayıların
# rakamlarının toplamını bulmak için bu işlevi kullanın.

# def toplam(a, b):
#     return a + b

# a = int(input("Toplamak istediğiniz a değerini giriniz: "))
# b = int(input("Toplamak istediğiniz b değerini giriniz: "))

# if a > 0 and b > 0:
#     print("Toplam =", toplam(a, b))
# else:
#     print("Lütfen pozitif sayı giriniz.")



"""--------------------------------------------"""
    

# Bir sayıyı parametre olarak alıp o sayının tersini döndüren bir fonksiyon yazınız.

# def sayi(ters):
#     return int(ters[::-1]) # burada sayının tersini alıyoruz

# duz_sayi = input("Bir sayı girin: ")
# ters_sayi = sayi(duz_sayi)

# print("Girdiğiniz sayı: ", duz_sayi)
# print("Sayının tersi: ", ters_sayi)



"""--------------------------------------------"""

# 2 tabanındaki bir ikili sayının belirli bir dizesini ondalık
# eşdeğerine dönüştüren ve ondalık değeri döndüren bir fonksiyon
# yazın.
#    1) Öncelikle is_binary adında bir fonksiyon yazın; bu fonksiyon bir
# dizge parametresi alır ve string parametresi 0’lar ve 1’lerden
# oluşan bir ikili dizge ise True’yu (örneğin, ‘101’), aksi halde
# False’ı (örneğin, ‘123’) döndürür.
#    2) Daha sonra, bir dize parametresi alan ve parametre dizisinin
# ikili bir sayı olup olmadığını kontrol etmek için is_binary
# işlevinizi kullanan, Convert_to_decimal adlı bir işlev yazın.


#örnek: input = 111 | output = 7

# def is_binary(s):
#     return all(bit in ('0', '1') for bit in s)

# def convert_to_decimal(binary_str):
#     decimal_value = int(binary_str, 2)
#     return decimal_value

# while True:
#     ikili_sayi = input("Lütfen ikili bir sayı girin (çıkmak için dur yazın): ")

#     if ikili_sayi.lower() == 'dur':
#         break  

#     if is_binary(ikili_sayi):
#         decimal_output = convert_to_decimal(ikili_sayi)
#         print(f"{ikili_sayi} ikili sayısı, ondalık karşılığı: {decimal_output}")
#     else:
#         print("Lütfen '0' ve '1' lerden oluşan dizin girin...")







