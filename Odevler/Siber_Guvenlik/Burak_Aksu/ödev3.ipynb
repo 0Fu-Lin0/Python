#Aşağıdakileri yapan bir Python komut dosyasını yazın. Bir banka hesabına 10000 TL yatırdığınızı varsayalım, yıllık %15’lik bir faiz oranı varsayarak orjinal yatırımı ikiye katlamak için gereken yıl sayısını veriniz.

para = 10000
faiz = 15/100
istenen_para = para * 2

yıl = 0

while para < istenen_para:
  para += para * faiz
  yıl += 1

print(f'{yıl} sonra ulaşabilirsiniz...')

#------------------------------------------------------------------------------------------------

# #Bir biyoloji deneyinde, bir mikroorganizma popülasyonu her 10 saatte bir ikiye katlanıyor. İlk mikroorganizma sayısını girmek ve 1000000’den fazla organizmaya sahip olmanın ne kadar süreceğini (günler ve kalan saatleri) çıkarmak için bir Python programı yazınız.

mikro = int(input("Lütfen mikroorganizma sayısını giriniz: "))
hedef_mikro = 100000
kat = 2
saat = 10

toplam = 0

while mikro < hedef_mikro:
  mikro *= kat
  toplam += saat

gün = toplam // 24
kalan_saat = toplam % 24

print(f'{mikro} mikroorganizmaya ulaşmak için gereken süre: {gün} gün {kalan_saat} saat ')

#------------------------------------------------------------------------------------------------

# Negatif bir değer girilene kadar pozitif tamsayılar giren bir Python komut dosyası yazın. Program, değer girişinin ortalamasını vermelidir.

toplam = 0
sayac = 0

while True:
    deger = int(input("Lütfen pozitif tam sayı giriniz: "))
    sayi = int(deger)
    if sayi < 0:
        break
    toplam += sayi
    sayac += 1

if sayac > 0:
    ortalama = toplam // sayac
    print("Girilen sayıların toplamı: ", toplam)
    print("Girilen pozitif tam sayı adeti: ",sayac)
    print("Girilen pozitif sayıların ortalaması: ", ortalama)
else:
    print("Hiç pozitif sayı girilmedi...")


#------------------------------------------------------------------------------------------------


# Bir Python tahmin oyunu programı yazın. Program 1 ile 10 arasında rastgele bir int oluşturmalıdır. Kullanıcı, bulana kadar sayıyı tahmin etmeye çalışacaktır. Program, yapılan tahminlerin sayısını vermelidir

import random

sayi = random.randint(1, 10)   

while True:
    tahmin = int(input("1 ile 10 arasında bir sayı tahmin edin: "))

    if tahmin > sayi:
        print("Daha küçük bir sayı tahmin edin.")
    elif tahmin < sayi:
        print("Daha büyük bir sayı tahmin edin.")
    else:
        print(f"Bildiğiniz sayı: '{sayi}' TEBRİKLER! ")
        break



