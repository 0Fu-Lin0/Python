{
  "nbformat": 4,
  "nbformat_minor": 0,
  "metadata": {
    "colab": {
      "provenance": [],
      "authorship_tag": "ABX9TyMTrFWkj4eGh6whfw6/gKzR",
      "include_colab_link": true
    },
    "kernelspec": {
      "name": "python3",
      "display_name": "Python 3"
    },
    "language_info": {
      "name": "python"
    }
  },
  "cells": [
    {
      "cell_type": "markdown",
      "metadata": {
        "id": "view-in-github",
        "colab_type": "text"
      },
      "source": [
        "<a href=\"https://colab.research.google.com/github/YUSFAR/Python/blob/Python-Dersi/YKemaHas.ipynb\" target=\"_parent\"><img src=\"https://colab.research.google.com/assets/colab-badge.svg\" alt=\"Open In Colab\"/></a>"
      ]
    },
    {
      "cell_type": "code",
      "execution_count": 1,
      "metadata": {
        "colab": {
          "base_uri": "https://localhost:8080/"
        },
        "id": "z8rzBcQGuhI7",
        "outputId": "da4236ff-2c97-4e57-a428-7975c7661dc5"
      },
      "outputs": [
        {
          "output_type": "stream",
          "name": "stdout",
          "text": [
            "Bir sayı girin: 35\n",
            "35, hem 5'e hem de 7'ye bölünür.\n"
          ]
        }
      ],
      "source": [
        "#1.soru\n",
        "sayi = int(input(\"Bir sayı girin: \"))\n",
        "\n",
        "if sayi % 5 == 0 or sayi % 7 == 0:\n",
        "    if sayi % 5 == 0 and sayi % 7 == 0:\n",
        "        print(f\"{sayi}, hem 5'e hem de 7'ye bölünür.\")\n",
        "    elif sayi % 5 == 0:\n",
        "        print(f\"{sayi}, 5'e bölünür.\")\n",
        "    else:\n",
        "        print(f\"{sayi}, 7'ye bölünür.\")\n",
        "else:\n",
        "    print(f\"{sayi}, 5'e veya 7'ye bölünmez.\")"
      ]
    },
    {
      "cell_type": "code",
      "source": [
        "#2.soru\n",
        "import random\n",
        "\n",
        "sayi = random.randint(1, 9)\n",
        "\n",
        "while True:\n",
        "    tahmin = int(input(\"1 ile 9 arasında bir sayı tahmin edin: \"))\n",
        "\n",
        "    if tahmin == sayi:\n",
        "        print(\"sayıyı doğru tahmin ettiniz.\")\n",
        "        break\n",
        "    else:\n",
        "        print(\"sayıyı yanlış tahmin ettiniz. Tekrar deneyin.\")"
      ],
      "metadata": {
        "colab": {
          "base_uri": "https://localhost:8080/"
        },
        "id": "Qun7IXLQvvx_",
        "outputId": "96546d9c-b7ac-452b-9f80-aaa4297a1321"
      },
      "execution_count": 2,
      "outputs": [
        {
          "output_type": "stream",
          "name": "stdout",
          "text": [
            "1 ile 9 arasında bir sayı tahmin edin: 5\n",
            "Yanlış tahmin. Tekrar deneyin.\n",
            "1 ile 9 arasında bir sayı tahmin edin: 6\n",
            "Yanlış tahmin. Tekrar deneyin.\n",
            "1 ile 9 arasında bir sayı tahmin edin: 7\n",
            "İyi tahmin! Hedef sayıyı doğru tahmin ettiniz.\n"
          ]
        }
      ]
    },
    {
      "cell_type": "code",
      "source": [
        "#3.soru\n",
        "kelime = input(\"Bir kelime girin: \")\n",
        "\n",
        "if len(kelime) < 2:\n",
        "    print(\"Kelime en az iki harf içermelidir.\")\n",
        "elif kelime[0] == kelime[-1]:\n",
        "    print(f\"{kelime} kelimesi başında ve sonunda aynı harfe sahiptir.\")\n",
        "else:\n",
        "    print(f\"{kelime} kelimesi başında ve sonunda aynı harfe sahip değildir.\")"
      ],
      "metadata": {
        "colab": {
          "base_uri": "https://localhost:8080/"
        },
        "id": "HNcFuX3HwNaE",
        "outputId": "fc36dbee-8256-44ad-df56-d2a42115bc42"
      },
      "execution_count": 4,
      "outputs": [
        {
          "output_type": "stream",
          "name": "stdout",
          "text": [
            "Bir kelime girin: arac\n",
            "arac kelimesi başında ve sonunda aynı harfe sahip değildir.\n"
          ]
        }
      ]
    },
    {
      "cell_type": "code",
      "source": [
        "#4.soru\n",
        "boy = float(input(\"Boyunuzu (metre cinsinden) girin: \"))\n",
        "kilo = float(input(\"Kilonuzu (kilogram cinsinden) girin: \"))\n",
        "\n",
        "bmi = kilo / (boy ** 2)\n",
        "\n",
        "if bmi >= 30:\n",
        "    print(\"Beden Kitle İndeksiniz (BMI): {:.2f} ve obezsiniz.\".format(bmi))\n",
        "elif 25 <= bmi < 30:\n",
        "    print(\"Beden Kitle İndeksiniz (BMI): {:.2f} ve aşırı kilolusunuz.\".format(bmi))\n",
        "elif 20 <= bmi < 25:\n",
        "    print(\"Beden Kitle İndeksiniz (BMI): {:.2f} ve normal kilodasınız.\".format(bmi))\n",
        "else:\n",
        "    print(\"Beden Kitle İndeksiniz (BMI): {:.2f} ve zayıfsınız.\".format(bmi))"
      ],
      "metadata": {
        "colab": {
          "base_uri": "https://localhost:8080/"
        },
        "id": "HvJMToPwxYmJ",
        "outputId": "876ac826-d50f-442f-e56d-0560f0afad34"
      },
      "execution_count": 6,
      "outputs": [
        {
          "output_type": "stream",
          "name": "stdout",
          "text": [
            "Boyunuzu (metre cinsinden) girin: 1.75\n",
            "Kilonuzu (kilogram cinsinden) girin: 93\n",
            "Beden Kitle İndeksiniz (BMI): 30.37 ve obezsiniz.\n"
          ]
        }
      ]
    }
  ]
}